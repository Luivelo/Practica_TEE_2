{
 "cells": [
  {
   "cell_type": "markdown",
   "id": "aca66511",
   "metadata": {},
   "source": [
    "# Semana 10 - Optimización de parámetros\n",
    "**Tópicos de Economía de la Empresa - E2TEE9**"
   ]
  },
  {
   "cell_type": "markdown",
   "id": "1e75b6dc",
   "metadata": {},
   "source": [
    "Iniciaremos la clase resolviendo el ejercicio para la casa número 3, para determinar cuál es el mejor modelo hasta el momento para utilizarlo durante esta sesión. "
   ]
  },
  {
   "cell_type": "markdown",
   "id": "78260b63",
   "metadata": {},
   "source": [
    "## Ejercicios para la casa N°3"
   ]
  },
  {
   "cell_type": "markdown",
   "id": "389d6dd2",
   "metadata": {},
   "source": [
    "Escalar la data utilizando min_max scaler y robust_scaler en vez de standard_scaler. \n",
    "1. Correr un clasificador de regresión logística usando ambos. \n",
    "2. Correr un clasificador KNN usando ambos\n",
    "3. Correr un clasificador DT usando ambos. \n",
    "4. Correr un clasificador SVM usando ambos. \n",
    "5. Conclusiones respecto a este análisis. ¿Cuál es el mejor modelo hasta el momento y porqué?"
   ]
  },
  {
   "cell_type": "code",
   "execution_count": 1,
   "id": "f94c4fb0",
   "metadata": {},
   "outputs": [],
   "source": [
    "import numpy as np\n",
    "import pandas as pd\n",
    "import matplotlib.pyplot as plt\n",
    "import statsmodels.api as sm\n",
    "import seaborn as sns\n",
    "import warnings\n",
    "warnings.filterwarnings('ignore')\n",
    "from sklearn.metrics import confusion_matrix, ConfusionMatrixDisplay\n",
    "from sklearn.preprocessing import StandardScaler\n",
    "from sklearn.preprocessing import MinMaxScaler\n",
    "from sklearn.preprocessing import RobustScaler\n",
    "from sklearn.linear_model import LogisticRegression\n",
    "from sklearn.neighbors import KNeighborsClassifier\n",
    "from sklearn.tree import DecisionTreeClassifier\n",
    "from sklearn.svm import SVC\n",
    "from sklearn.metrics import accuracy_score, classification_report"
   ]
  },
  {
   "cell_type": "code",
   "execution_count": 2,
   "id": "43f5af78",
   "metadata": {},
   "outputs": [],
   "source": [
    "df=pd.read_csv('fintech.csv', sep=\";\")"
   ]
  },
  {
   "cell_type": "code",
   "execution_count": 3,
   "id": "5cbd1acb",
   "metadata": {},
   "outputs": [
    {
     "name": "stdout",
     "output_type": "stream",
     "text": [
      "<class 'pandas.core.frame.DataFrame'>\n",
      "RangeIndex: 824 entries, 0 to 823\n",
      "Data columns (total 8 columns):\n",
      " #   Column            Non-Null Count  Dtype \n",
      "---  ------            --------------  ----- \n",
      " 0   score_1           824 non-null    object\n",
      " 1   riesgo_score1     824 non-null    int64 \n",
      " 2   score_2           824 non-null    object\n",
      " 3   riesgo_score2     824 non-null    int64 \n",
      " 4   interaccion_1     824 non-null    int64 \n",
      " 5   interaccion_2     824 non-null    int64 \n",
      " 6   monto             824 non-null    int64 \n",
      " 7   mala_transaccion  824 non-null    int64 \n",
      "dtypes: int64(6), object(2)\n",
      "memory usage: 51.6+ KB\n"
     ]
    }
   ],
   "source": [
    "df.info()"
   ]
  },
  {
   "cell_type": "code",
   "execution_count": 4,
   "id": "2378f12c",
   "metadata": {},
   "outputs": [
    {
     "data": {
      "text/html": [
       "<div>\n",
       "<style scoped>\n",
       "    .dataframe tbody tr th:only-of-type {\n",
       "        vertical-align: middle;\n",
       "    }\n",
       "\n",
       "    .dataframe tbody tr th {\n",
       "        vertical-align: top;\n",
       "    }\n",
       "\n",
       "    .dataframe thead th {\n",
       "        text-align: right;\n",
       "    }\n",
       "</style>\n",
       "<table border=\"1\" class=\"dataframe\">\n",
       "  <thead>\n",
       "    <tr style=\"text-align: right;\">\n",
       "      <th></th>\n",
       "      <th>score_1</th>\n",
       "      <th>riesgo_score1</th>\n",
       "      <th>score_2</th>\n",
       "      <th>riesgo_score2</th>\n",
       "      <th>interaccion_1</th>\n",
       "      <th>interaccion_2</th>\n",
       "      <th>monto</th>\n",
       "      <th>mala_transaccion</th>\n",
       "    </tr>\n",
       "  </thead>\n",
       "  <tbody>\n",
       "    <tr>\n",
       "      <th>0</th>\n",
       "      <td>excelente</td>\n",
       "      <td>0</td>\n",
       "      <td>medio</td>\n",
       "      <td>1</td>\n",
       "      <td>0</td>\n",
       "      <td>1</td>\n",
       "      <td>79</td>\n",
       "      <td>0</td>\n",
       "    </tr>\n",
       "    <tr>\n",
       "      <th>1</th>\n",
       "      <td>excelente</td>\n",
       "      <td>0</td>\n",
       "      <td>excelente</td>\n",
       "      <td>0</td>\n",
       "      <td>0</td>\n",
       "      <td>0</td>\n",
       "      <td>99</td>\n",
       "      <td>0</td>\n",
       "    </tr>\n",
       "    <tr>\n",
       "      <th>2</th>\n",
       "      <td>excelente</td>\n",
       "      <td>0</td>\n",
       "      <td>medio</td>\n",
       "      <td>1</td>\n",
       "      <td>0</td>\n",
       "      <td>1</td>\n",
       "      <td>50</td>\n",
       "      <td>0</td>\n",
       "    </tr>\n",
       "    <tr>\n",
       "      <th>3</th>\n",
       "      <td>excelente</td>\n",
       "      <td>0</td>\n",
       "      <td>excelente</td>\n",
       "      <td>0</td>\n",
       "      <td>0</td>\n",
       "      <td>0</td>\n",
       "      <td>79</td>\n",
       "      <td>0</td>\n",
       "    </tr>\n",
       "    <tr>\n",
       "      <th>4</th>\n",
       "      <td>bueno</td>\n",
       "      <td>0</td>\n",
       "      <td>excelente</td>\n",
       "      <td>0</td>\n",
       "      <td>0</td>\n",
       "      <td>0</td>\n",
       "      <td>99</td>\n",
       "      <td>0</td>\n",
       "    </tr>\n",
       "  </tbody>\n",
       "</table>\n",
       "</div>"
      ],
      "text/plain": [
       "     score_1  riesgo_score1    score_2  riesgo_score2  interaccion_1  \\\n",
       "0  excelente              0      medio              1              0   \n",
       "1  excelente              0  excelente              0              0   \n",
       "2  excelente              0      medio              1              0   \n",
       "3  excelente              0  excelente              0              0   \n",
       "4      bueno              0  excelente              0              0   \n",
       "\n",
       "   interaccion_2  monto  mala_transaccion  \n",
       "0              1     79                 0  \n",
       "1              0     99                 0  \n",
       "2              1     50                 0  \n",
       "3              0     79                 0  \n",
       "4              0     99                 0  "
      ]
     },
     "execution_count": 4,
     "metadata": {},
     "output_type": "execute_result"
    }
   ],
   "source": [
    "df.head()"
   ]
  },
  {
   "cell_type": "code",
   "execution_count": 5,
   "id": "249e1fe1",
   "metadata": {},
   "outputs": [],
   "source": [
    "# Seleccionar solo las variables numéricas\n",
    "df1 = df.iloc[:, list(range(3, 8)) + [1]]"
   ]
  },
  {
   "cell_type": "code",
   "execution_count": 6,
   "id": "a9566d51",
   "metadata": {},
   "outputs": [
    {
     "name": "stdout",
     "output_type": "stream",
     "text": [
      "<class 'pandas.core.frame.DataFrame'>\n",
      "RangeIndex: 824 entries, 0 to 823\n",
      "Data columns (total 6 columns):\n",
      " #   Column            Non-Null Count  Dtype\n",
      "---  ------            --------------  -----\n",
      " 0   riesgo_score2     824 non-null    int64\n",
      " 1   interaccion_1     824 non-null    int64\n",
      " 2   interaccion_2     824 non-null    int64\n",
      " 3   monto             824 non-null    int64\n",
      " 4   mala_transaccion  824 non-null    int64\n",
      " 5   riesgo_score1     824 non-null    int64\n",
      "dtypes: int64(6)\n",
      "memory usage: 38.8 KB\n"
     ]
    }
   ],
   "source": [
    "df1.info()"
   ]
  },
  {
   "cell_type": "code",
   "execution_count": 27,
   "id": "aa6a4c66",
   "metadata": {},
   "outputs": [],
   "source": [
    "# Separamos a la variable dependiente de las independientes\n",
    "X = df1[['riesgo_score1', 'riesgo_score2', 'interaccion_1', 'interaccion_2', 'monto']]\n",
    "y = df1['mala_transaccion']"
   ]
  },
  {
   "cell_type": "markdown",
   "id": "beb08977",
   "metadata": {},
   "source": [
    "### Usando Min_Max Scaler"
   ]
  },
  {
   "cell_type": "code",
   "execution_count": 22,
   "id": "b035f630",
   "metadata": {},
   "outputs": [],
   "source": [
    "# Inicializar el escalador\n",
    "scaler = MinMaxScaler()\n",
    "\n",
    "# Ajustar (fit) y transformar los datos\n",
    "scaled_data_mm = scaler.fit_transform(X)"
   ]
  },
  {
   "cell_type": "markdown",
   "id": "ea8441e5",
   "metadata": {},
   "source": [
    "#### Regresión Logística"
   ]
  },
  {
   "cell_type": "code",
   "execution_count": 9,
   "id": "2c74dcd4",
   "metadata": {},
   "outputs": [
    {
     "name": "stdout",
     "output_type": "stream",
     "text": [
      "Accuracy: 81.31%\n",
      "\n",
      "Classification Report:\n",
      "               precision    recall  f1-score   support\n",
      "\n",
      "           0       0.82      0.99      0.90       671\n",
      "           1       0.47      0.05      0.09       153\n",
      "\n",
      "    accuracy                           0.81       824\n",
      "   macro avg       0.65      0.52      0.49       824\n",
      "weighted avg       0.76      0.81      0.75       824\n",
      "\n"
     ]
    }
   ],
   "source": [
    "#Instanciar\n",
    "clf2 = LogisticRegression()\n",
    "\n",
    "# Encajar\n",
    "clf2.fit(scaled_data_mm, y)\n",
    "\n",
    "# Predecir\n",
    "y_pred_logmm = clf2.predict(scaled_data_mm)\n",
    "\n",
    "# Reporte\n",
    "print(f\"Accuracy: {accuracy_score(y, y_pred_logmm) * 100:.2f}%\")\n",
    "print(\"\\nClassification Report:\\n\", classification_report(y, y_pred_logmm))"
   ]
  },
  {
   "cell_type": "markdown",
   "id": "c69b7198",
   "metadata": {},
   "source": [
    "Tiene un recall muy malo de 0.05, peor que el modelo de regresión logística con Standard Scaler"
   ]
  },
  {
   "cell_type": "markdown",
   "id": "3f271810",
   "metadata": {},
   "source": [
    "#### KNN "
   ]
  },
  {
   "cell_type": "code",
   "execution_count": 10,
   "id": "2c1b6a72",
   "metadata": {},
   "outputs": [
    {
     "data": {
      "text/html": [
       "<style>#sk-container-id-1 {color: black;}#sk-container-id-1 pre{padding: 0;}#sk-container-id-1 div.sk-toggleable {background-color: white;}#sk-container-id-1 label.sk-toggleable__label {cursor: pointer;display: block;width: 100%;margin-bottom: 0;padding: 0.3em;box-sizing: border-box;text-align: center;}#sk-container-id-1 label.sk-toggleable__label-arrow:before {content: \"▸\";float: left;margin-right: 0.25em;color: #696969;}#sk-container-id-1 label.sk-toggleable__label-arrow:hover:before {color: black;}#sk-container-id-1 div.sk-estimator:hover label.sk-toggleable__label-arrow:before {color: black;}#sk-container-id-1 div.sk-toggleable__content {max-height: 0;max-width: 0;overflow: hidden;text-align: left;background-color: #f0f8ff;}#sk-container-id-1 div.sk-toggleable__content pre {margin: 0.2em;color: black;border-radius: 0.25em;background-color: #f0f8ff;}#sk-container-id-1 input.sk-toggleable__control:checked~div.sk-toggleable__content {max-height: 200px;max-width: 100%;overflow: auto;}#sk-container-id-1 input.sk-toggleable__control:checked~label.sk-toggleable__label-arrow:before {content: \"▾\";}#sk-container-id-1 div.sk-estimator input.sk-toggleable__control:checked~label.sk-toggleable__label {background-color: #d4ebff;}#sk-container-id-1 div.sk-label input.sk-toggleable__control:checked~label.sk-toggleable__label {background-color: #d4ebff;}#sk-container-id-1 input.sk-hidden--visually {border: 0;clip: rect(1px 1px 1px 1px);clip: rect(1px, 1px, 1px, 1px);height: 1px;margin: -1px;overflow: hidden;padding: 0;position: absolute;width: 1px;}#sk-container-id-1 div.sk-estimator {font-family: monospace;background-color: #f0f8ff;border: 1px dotted black;border-radius: 0.25em;box-sizing: border-box;margin-bottom: 0.5em;}#sk-container-id-1 div.sk-estimator:hover {background-color: #d4ebff;}#sk-container-id-1 div.sk-parallel-item::after {content: \"\";width: 100%;border-bottom: 1px solid gray;flex-grow: 1;}#sk-container-id-1 div.sk-label:hover label.sk-toggleable__label {background-color: #d4ebff;}#sk-container-id-1 div.sk-serial::before {content: \"\";position: absolute;border-left: 1px solid gray;box-sizing: border-box;top: 0;bottom: 0;left: 50%;z-index: 0;}#sk-container-id-1 div.sk-serial {display: flex;flex-direction: column;align-items: center;background-color: white;padding-right: 0.2em;padding-left: 0.2em;position: relative;}#sk-container-id-1 div.sk-item {position: relative;z-index: 1;}#sk-container-id-1 div.sk-parallel {display: flex;align-items: stretch;justify-content: center;background-color: white;position: relative;}#sk-container-id-1 div.sk-item::before, #sk-container-id-1 div.sk-parallel-item::before {content: \"\";position: absolute;border-left: 1px solid gray;box-sizing: border-box;top: 0;bottom: 0;left: 50%;z-index: -1;}#sk-container-id-1 div.sk-parallel-item {display: flex;flex-direction: column;z-index: 1;position: relative;background-color: white;}#sk-container-id-1 div.sk-parallel-item:first-child::after {align-self: flex-end;width: 50%;}#sk-container-id-1 div.sk-parallel-item:last-child::after {align-self: flex-start;width: 50%;}#sk-container-id-1 div.sk-parallel-item:only-child::after {width: 0;}#sk-container-id-1 div.sk-dashed-wrapped {border: 1px dashed gray;margin: 0 0.4em 0.5em 0.4em;box-sizing: border-box;padding-bottom: 0.4em;background-color: white;}#sk-container-id-1 div.sk-label label {font-family: monospace;font-weight: bold;display: inline-block;line-height: 1.2em;}#sk-container-id-1 div.sk-label-container {text-align: center;}#sk-container-id-1 div.sk-container {/* jupyter's `normalize.less` sets `[hidden] { display: none; }` but bootstrap.min.css set `[hidden] { display: none !important; }` so we also need the `!important` here to be able to override the default hidden behavior on the sphinx rendered scikit-learn.org. See: https://github.com/scikit-learn/scikit-learn/issues/21755 */display: inline-block !important;position: relative;}#sk-container-id-1 div.sk-text-repr-fallback {display: none;}</style><div id=\"sk-container-id-1\" class=\"sk-top-container\"><div class=\"sk-text-repr-fallback\"><pre>KNeighborsClassifier(n_neighbors=10)</pre><b>In a Jupyter environment, please rerun this cell to show the HTML representation or trust the notebook. <br />On GitHub, the HTML representation is unable to render, please try loading this page with nbviewer.org.</b></div><div class=\"sk-container\" hidden><div class=\"sk-item\"><div class=\"sk-estimator sk-toggleable\"><input class=\"sk-toggleable__control sk-hidden--visually\" id=\"sk-estimator-id-1\" type=\"checkbox\" checked><label for=\"sk-estimator-id-1\" class=\"sk-toggleable__label sk-toggleable__label-arrow\">KNeighborsClassifier</label><div class=\"sk-toggleable__content\"><pre>KNeighborsClassifier(n_neighbors=10)</pre></div></div></div></div></div>"
      ],
      "text/plain": [
       "KNeighborsClassifier(n_neighbors=10)"
      ]
     },
     "execution_count": 10,
     "metadata": {},
     "output_type": "execute_result"
    }
   ],
   "source": [
    "### KNN\n",
    "## Haciendo fit al modelo con un número de 10 vecinos, como en la sesión anterior\n",
    "\n",
    "knn= KNeighborsClassifier(n_neighbors=10)\n",
    "knn.fit(scaled_data_mm, y)"
   ]
  },
  {
   "cell_type": "code",
   "execution_count": 11,
   "id": "e85bf01d",
   "metadata": {},
   "outputs": [],
   "source": [
    "# Obteniendo las predicciones del modelo \n",
    "y_pred_knn_mm = knn.predict(scaled_data_mm)"
   ]
  },
  {
   "cell_type": "code",
   "execution_count": 12,
   "id": "417e4cb4",
   "metadata": {},
   "outputs": [
    {
     "name": "stdout",
     "output_type": "stream",
     "text": [
      "Accuracy: 81.80%\n",
      "\n",
      "Classification Report:\n",
      "               precision    recall  f1-score   support\n",
      "\n",
      "           0       0.82      1.00      0.90       671\n",
      "           1       0.67      0.04      0.07       153\n",
      "\n",
      "    accuracy                           0.82       824\n",
      "   macro avg       0.74      0.52      0.49       824\n",
      "weighted avg       0.79      0.82      0.75       824\n",
      "\n"
     ]
    }
   ],
   "source": [
    "# Reporte\n",
    "print(f\"Accuracy: {accuracy_score(y, y_pred_knn_mm) * 100:.2f}%\")\n",
    "print(\"\\nClassification Report:\\n\", classification_report(y, y_pred_knn_mm))"
   ]
  },
  {
   "cell_type": "markdown",
   "id": "a2c1d366",
   "metadata": {},
   "source": [
    "Este recall es aun peor que el de la regresión logística. "
   ]
  },
  {
   "cell_type": "markdown",
   "id": "a714db05",
   "metadata": {},
   "source": [
    "#### Arbol de decisión"
   ]
  },
  {
   "cell_type": "markdown",
   "id": "e88e0bfb",
   "metadata": {},
   "source": [
    "Aunque no es necesario escalar para el caso de árboles de decisión queremos comprobar que es neutro."
   ]
  },
  {
   "cell_type": "code",
   "execution_count": 24,
   "id": "edc64aff",
   "metadata": {},
   "outputs": [
    {
     "name": "stdout",
     "output_type": "stream",
     "text": [
      "La precision del modelo de arbol de decision es 0.8385922330097088\n"
     ]
    }
   ],
   "source": [
    "## Haciendo fit al modelo con una máxima profundidad de 8 nodos\n",
    "dt_model = DecisionTreeClassifier(max_depth=8)\n",
    "dt_model.fit(scaled_data_mm,y)\n",
    "    \n",
    "# Score on train and test\n",
    "print(f\"La precision del modelo de arbol de decision es {dt_model.score(scaled_data_mm, y)}\")"
   ]
  },
  {
   "cell_type": "code",
   "execution_count": 25,
   "id": "cc5525b9",
   "metadata": {},
   "outputs": [],
   "source": [
    "# Obteniendo las predicciones del modelo \n",
    "y_pred_dt_mm = dt_model.predict(scaled_data_mm)"
   ]
  },
  {
   "cell_type": "code",
   "execution_count": 26,
   "id": "023d4aae",
   "metadata": {},
   "outputs": [
    {
     "name": "stdout",
     "output_type": "stream",
     "text": [
      "Accuracy: 83.86%\n",
      "\n",
      "Classification Report:\n",
      "               precision    recall  f1-score   support\n",
      "\n",
      "           0       0.85      0.97      0.91       671\n",
      "           1       0.67      0.26      0.38       153\n",
      "\n",
      "    accuracy                           0.84       824\n",
      "   macro avg       0.76      0.62      0.64       824\n",
      "weighted avg       0.82      0.84      0.81       824\n",
      "\n"
     ]
    }
   ],
   "source": [
    "# Reporte\n",
    "print(f\"Accuracy: {accuracy_score(y, y_pred_dt_mm) * 100:.2f}%\")\n",
    "print(\"\\nClassification Report:\\n\", classification_report(y, y_pred_dt_mm))"
   ]
  },
  {
   "cell_type": "markdown",
   "id": "dce009ea",
   "metadata": {},
   "source": [
    "Obtenemos los mismos resultados que en la clase pasada con data sin escalar. Veamos. "
   ]
  },
  {
   "cell_type": "code",
   "execution_count": 28,
   "id": "c68e344c",
   "metadata": {},
   "outputs": [
    {
     "name": "stdout",
     "output_type": "stream",
     "text": [
      "La precision del modelo de arbol de decision es 0.8385922330097088\n"
     ]
    }
   ],
   "source": [
    "## Haciendo fit al modelo con una máxima profundidad de 8 nodos\n",
    "## Se puede optimizar el número de nodos de manera sistémica. En este caso, por el número de observaciones lo he hecho manual\n",
    "dt_model = DecisionTreeClassifier(max_depth=8)\n",
    "dt_model.fit(X,y)\n",
    "    \n",
    "# Score on train and test\n",
    "print(f\"La precision del modelo de arbol de decision es {dt_model.score(X, y)}\")"
   ]
  },
  {
   "cell_type": "code",
   "execution_count": 29,
   "id": "c3086ba8",
   "metadata": {},
   "outputs": [],
   "source": [
    "# Obteniendo las predicciones del modelo \n",
    "y_pred_dt = dt_model.predict(X)"
   ]
  },
  {
   "cell_type": "code",
   "execution_count": 31,
   "id": "86eddc3c",
   "metadata": {},
   "outputs": [],
   "source": [
    "## poniendo la predicción en el dataframe 1\n",
    "df1.loc[:,'pred_prob_dt']=y_pred_dt"
   ]
  },
  {
   "cell_type": "code",
   "execution_count": 32,
   "id": "6f6c40d7",
   "metadata": {},
   "outputs": [
    {
     "name": "stdout",
     "output_type": "stream",
     "text": [
      "Accuracy: 83.86%\n",
      "\n",
      "Classification Report:\n",
      "               precision    recall  f1-score   support\n",
      "\n",
      "           0       0.85      0.97      0.91       671\n",
      "           1       0.67      0.26      0.38       153\n",
      "\n",
      "    accuracy                           0.84       824\n",
      "   macro avg       0.76      0.62      0.64       824\n",
      "weighted avg       0.82      0.84      0.81       824\n",
      "\n"
     ]
    }
   ],
   "source": [
    "# Reporte\n",
    "print(f\"Accuracy: {accuracy_score(y, y_pred_dt) * 100:.2f}%\")\n",
    "print(\"\\nClassification Report:\\n\", classification_report(y, y_pred_dt))"
   ]
  },
  {
   "cell_type": "markdown",
   "id": "8873218c",
   "metadata": {},
   "source": [
    "Grafiquemos el arbol decision"
   ]
  },
  {
   "cell_type": "code",
   "execution_count": 38,
   "id": "580ca939",
   "metadata": {},
   "outputs": [
    {
     "data": {
      "image/png": "[encoded data removed]",
      "text/plain": [
       "<Figure size 1200x800 with 1 Axes>"
      ]
     },
     "metadata": {},
     "output_type": "display_data"
    }
   ],
   "source": [
    "from sklearn.tree import DecisionTreeClassifier, plot_tree\n",
    "import matplotlib.pyplot as plt\n",
    "\n",
    "# Define the features and target\n",
    "X = df1[['riesgo_score1', 'riesgo_score2', 'interaccion_1', 'interaccion_2', 'monto']]\n",
    "y = df1['mala_transaccion']\n",
    "\n",
    "# Initialize and fit the decision tree model\n",
    "dt_model = DecisionTreeClassifier()\n",
    "dt_model.fit(X, y)\n",
    "\n",
    "# Plot the decision tree\n",
    "plt.figure(figsize=(12, 8))\n",
    "plot_tree(dt_model, \n",
    "          feature_names=X.columns,  # Use X.columns for feature names\n",
    "          class_names=[str(cls) for cls in y.unique()],  # Convert unique class labels to strings\n",
    "          filled=True, \n",
    "          rounded=True)\n",
    "plt.show()\n"
   ]
  },
  {
   "cell_type": "markdown",
   "id": "c225833c",
   "metadata": {},
   "source": [
    "#### SVM"
   ]
  },
  {
   "cell_type": "code",
   "execution_count": 13,
   "id": "e2bc5d96",
   "metadata": {},
   "outputs": [],
   "source": [
    "# Inicializar el clasificador\n",
    "svm = SVC()\n",
    "\n",
    "# Encajar el modelo a la data\n",
    "svm.fit(scaled_data_mm, y)\n",
    "\n",
    "# Estimar las predicciones del modelo usando la data escalada\n",
    "y_pred_svm_mm = svm.predict(scaled_data_mm)"
   ]
  },
  {
   "cell_type": "code",
   "execution_count": 26,
   "id": "1f308b2c",
   "metadata": {},
   "outputs": [
    {
     "name": "stdout",
     "output_type": "stream",
     "text": [
      "Accuracy: 82.28%\n",
      "\n",
      "Classification Report:\n",
      "               precision    recall  f1-score   support\n",
      "\n",
      "           0       0.84      0.97      0.90       671\n",
      "           1       0.57      0.18      0.27       153\n",
      "\n",
      "    accuracy                           0.82       824\n",
      "   macro avg       0.71      0.57      0.58       824\n",
      "weighted avg       0.79      0.82      0.78       824\n",
      "\n"
     ]
    }
   ],
   "source": [
    "# Reporte\n",
    "print(f\"Accuracy: {accuracy_score(y, y_pred_svm_mm) * 100:.2f}%\")\n",
    "print(\"\\nClassification Report:\\n\", classification_report(y, y_pred_svm_mm))"
   ]
  },
  {
   "cell_type": "markdown",
   "id": "cf1db490",
   "metadata": {},
   "source": [
    "El recall en este caso es peor que en el Standard_Scaler, 0.23. En general, el Min_Max Scaler para este dataset es inferior que el Standard Scaler"
   ]
  },
  {
   "cell_type": "markdown",
   "id": "7ca345ca",
   "metadata": {},
   "source": [
    "### Usando Robust Scaler"
   ]
  },
  {
   "cell_type": "code",
   "execution_count": 15,
   "id": "632458ab",
   "metadata": {},
   "outputs": [],
   "source": [
    "# Inicializar el escalador\n",
    "scaler = RobustScaler()\n",
    "\n",
    "# Ajustar (fit) y transformar los datos\n",
    "scaled_data_rob = scaler.fit_transform(X)"
   ]
  },
  {
   "cell_type": "markdown",
   "id": "7674e494",
   "metadata": {},
   "source": [
    "####  Regresión Logística"
   ]
  },
  {
   "cell_type": "code",
   "execution_count": 16,
   "id": "fb7121a4",
   "metadata": {},
   "outputs": [
    {
     "name": "stdout",
     "output_type": "stream",
     "text": [
      "Accuracy: 81.31%\n",
      "\n",
      "Classification Report:\n",
      "               precision    recall  f1-score   support\n",
      "\n",
      "           0       0.82      0.99      0.90       671\n",
      "           1       0.47      0.05      0.09       153\n",
      "\n",
      "    accuracy                           0.81       824\n",
      "   macro avg       0.65      0.52      0.49       824\n",
      "weighted avg       0.76      0.81      0.75       824\n",
      "\n"
     ]
    }
   ],
   "source": [
    "#Instanciar\n",
    "clf2 = LogisticRegression()\n",
    "\n",
    "# Encajar\n",
    "clf2.fit(scaled_data_rob, y)\n",
    "\n",
    "# Predecir\n",
    "y_pred_logrob = clf2.predict(scaled_data_rob)\n",
    "\n",
    "# Reporte\n",
    "print(f\"Accuracy: {accuracy_score(y, y_pred_logrob) * 100:.2f}%\")\n",
    "print(\"\\nClassification Report:\\n\", classification_report(y, y_pred_logrob))"
   ]
  },
  {
   "cell_type": "markdown",
   "id": "b717194a",
   "metadata": {},
   "source": [
    "El recall es igual de malo que con Min_Max scaler e inferior a Standard Scaler, que era 0.10"
   ]
  },
  {
   "cell_type": "markdown",
   "id": "e311f868",
   "metadata": {},
   "source": [
    "#### KNN"
   ]
  },
  {
   "cell_type": "code",
   "execution_count": 30,
   "id": "2edb9a50",
   "metadata": {},
   "outputs": [
    {
     "data": {
      "text/html": [
       "<style>#sk-container-id-2 {color: black;}#sk-container-id-2 pre{padding: 0;}#sk-container-id-2 div.sk-toggleable {background-color: white;}#sk-container-id-2 label.sk-toggleable__label {cursor: pointer;display: block;width: 100%;margin-bottom: 0;padding: 0.3em;box-sizing: border-box;text-align: center;}#sk-container-id-2 label.sk-toggleable__label-arrow:before {content: \"▸\";float: left;margin-right: 0.25em;color: #696969;}#sk-container-id-2 label.sk-toggleable__label-arrow:hover:before {color: black;}#sk-container-id-2 div.sk-estimator:hover label.sk-toggleable__label-arrow:before {color: black;}#sk-container-id-2 div.sk-toggleable__content {max-height: 0;max-width: 0;overflow: hidden;text-align: left;background-color: #f0f8ff;}#sk-container-id-2 div.sk-toggleable__content pre {margin: 0.2em;color: black;border-radius: 0.25em;background-color: #f0f8ff;}#sk-container-id-2 input.sk-toggleable__control:checked~div.sk-toggleable__content {max-height: 200px;max-width: 100%;overflow: auto;}#sk-container-id-2 input.sk-toggleable__control:checked~label.sk-toggleable__label-arrow:before {content: \"▾\";}#sk-container-id-2 div.sk-estimator input.sk-toggleable__control:checked~label.sk-toggleable__label {background-color: #d4ebff;}#sk-container-id-2 div.sk-label input.sk-toggleable__control:checked~label.sk-toggleable__label {background-color: #d4ebff;}#sk-container-id-2 input.sk-hidden--visually {border: 0;clip: rect(1px 1px 1px 1px);clip: rect(1px, 1px, 1px, 1px);height: 1px;margin: -1px;overflow: hidden;padding: 0;position: absolute;width: 1px;}#sk-container-id-2 div.sk-estimator {font-family: monospace;background-color: #f0f8ff;border: 1px dotted black;border-radius: 0.25em;box-sizing: border-box;margin-bottom: 0.5em;}#sk-container-id-2 div.sk-estimator:hover {background-color: #d4ebff;}#sk-container-id-2 div.sk-parallel-item::after {content: \"\";width: 100%;border-bottom: 1px solid gray;flex-grow: 1;}#sk-container-id-2 div.sk-label:hover label.sk-toggleable__label {background-color: #d4ebff;}#sk-container-id-2 div.sk-serial::before {content: \"\";position: absolute;border-left: 1px solid gray;box-sizing: border-box;top: 0;bottom: 0;left: 50%;z-index: 0;}#sk-container-id-2 div.sk-serial {display: flex;flex-direction: column;align-items: center;background-color: white;padding-right: 0.2em;padding-left: 0.2em;position: relative;}#sk-container-id-2 div.sk-item {position: relative;z-index: 1;}#sk-container-id-2 div.sk-parallel {display: flex;align-items: stretch;justify-content: center;background-color: white;position: relative;}#sk-container-id-2 div.sk-item::before, #sk-container-id-2 div.sk-parallel-item::before {content: \"\";position: absolute;border-left: 1px solid gray;box-sizing: border-box;top: 0;bottom: 0;left: 50%;z-index: -1;}#sk-container-id-2 div.sk-parallel-item {display: flex;flex-direction: column;z-index: 1;position: relative;background-color: white;}#sk-container-id-2 div.sk-parallel-item:first-child::after {align-self: flex-end;width: 50%;}#sk-container-id-2 div.sk-parallel-item:last-child::after {align-self: flex-start;width: 50%;}#sk-container-id-2 div.sk-parallel-item:only-child::after {width: 0;}#sk-container-id-2 div.sk-dashed-wrapped {border: 1px dashed gray;margin: 0 0.4em 0.5em 0.4em;box-sizing: border-box;padding-bottom: 0.4em;background-color: white;}#sk-container-id-2 div.sk-label label {font-family: monospace;font-weight: bold;display: inline-block;line-height: 1.2em;}#sk-container-id-2 div.sk-label-container {text-align: center;}#sk-container-id-2 div.sk-container {/* jupyter's `normalize.less` sets `[hidden] { display: none; }` but bootstrap.min.css set `[hidden] { display: none !important; }` so we also need the `!important` here to be able to override the default hidden behavior on the sphinx rendered scikit-learn.org. See: https://github.com/scikit-learn/scikit-learn/issues/21755 */display: inline-block !important;position: relative;}#sk-container-id-2 div.sk-text-repr-fallback {display: none;}</style><div id=\"sk-container-id-2\" class=\"sk-top-container\"><div class=\"sk-text-repr-fallback\"><pre>KNeighborsClassifier(n_neighbors=10)</pre><b>In a Jupyter environment, please rerun this cell to show the HTML representation or trust the notebook. <br />On GitHub, the HTML representation is unable to render, please try loading this page with nbviewer.org.</b></div><div class=\"sk-container\" hidden><div class=\"sk-item\"><div class=\"sk-estimator sk-toggleable\"><input class=\"sk-toggleable__control sk-hidden--visually\" id=\"sk-estimator-id-2\" type=\"checkbox\" checked><label for=\"sk-estimator-id-2\" class=\"sk-toggleable__label sk-toggleable__label-arrow\">KNeighborsClassifier</label><div class=\"sk-toggleable__content\"><pre>KNeighborsClassifier(n_neighbors=10)</pre></div></div></div></div></div>"
      ],
      "text/plain": [
       "KNeighborsClassifier(n_neighbors=10)"
      ]
     },
     "execution_count": 30,
     "metadata": {},
     "output_type": "execute_result"
    }
   ],
   "source": [
    "## Haciendo fit al modelo con un número de 10 vecinos\n",
    "\n",
    "knn= KNeighborsClassifier(n_neighbors=10)\n",
    "knn.fit(scaled_data_rob, y)"
   ]
  },
  {
   "cell_type": "code",
   "execution_count": 31,
   "id": "5f8e8760",
   "metadata": {},
   "outputs": [],
   "source": [
    "# Obteniendo las predicciones del modelo \n",
    "y_pred_knn_rob = knn.predict(scaled_data_rob)"
   ]
  },
  {
   "cell_type": "code",
   "execution_count": 32,
   "id": "a28079b1",
   "metadata": {},
   "outputs": [
    {
     "name": "stdout",
     "output_type": "stream",
     "text": [
      "Accuracy: 81.55%\n",
      "\n",
      "Classification Report:\n",
      "               precision    recall  f1-score   support\n",
      "\n",
      "           0       0.83      0.98      0.90       671\n",
      "           1       0.52      0.09      0.16       153\n",
      "\n",
      "    accuracy                           0.82       824\n",
      "   macro avg       0.67      0.54      0.53       824\n",
      "weighted avg       0.77      0.82      0.76       824\n",
      "\n"
     ]
    }
   ],
   "source": [
    "# Reporte\n",
    "print(f\"Accuracy: {accuracy_score(y, y_pred_knn_rob) * 100:.2f}%\")\n",
    "print(\"\\nClassification Report:\\n\", classification_report(y, y_pred_knn_rob))"
   ]
  },
  {
   "cell_type": "markdown",
   "id": "b56e04e5",
   "metadata": {},
   "source": [
    "En el caso de KNN, obtenemos el mismo recall con RobustScaler que con StandardScaler, 0.09. No es motivo para hacer el cambio. "
   ]
  },
  {
   "cell_type": "markdown",
   "id": "bef0ed88",
   "metadata": {},
   "source": [
    "#### Arbol de decisión "
   ]
  },
  {
   "cell_type": "code",
   "execution_count": 33,
   "id": "81e994ab",
   "metadata": {},
   "outputs": [
    {
     "name": "stdout",
     "output_type": "stream",
     "text": [
      "La precision del modelo de arbol de decision es 0.8385922330097088\n"
     ]
    }
   ],
   "source": [
    "## Haciendo fit al modelo con una máxima profundidad de 8 nodos\n",
    "\n",
    "dt_model = DecisionTreeClassifier(max_depth=8)\n",
    "dt_model.fit(scaled_data_rob,y)\n",
    "    \n",
    "# Score on train and test\n",
    "print(f\"La precision del modelo de arbol de decision es {dt_model.score(scaled_data_rob, y)}\")"
   ]
  },
  {
   "cell_type": "markdown",
   "id": "1b0f7b34",
   "metadata": {},
   "source": [
    "Como vemos que es exactamente el mismo accuracy que en los casos anteriores, no es necesario seguir avanzando. Simplemente, no cambian los resultados asi se escale o no se escale la data. "
   ]
  },
  {
   "cell_type": "markdown",
   "id": "9e2cd37a",
   "metadata": {},
   "source": [
    "#### SVM"
   ]
  },
  {
   "cell_type": "code",
   "execution_count": 34,
   "id": "e86eb767",
   "metadata": {},
   "outputs": [],
   "source": [
    "# Inicializar el clasificador\n",
    "svm = SVC()\n",
    "\n",
    "# Encajar el modelo a la data\n",
    "svm.fit(scaled_data_rob, y)\n",
    "\n",
    "# Estimar las predicciones del modelo usando la data escalada\n",
    "y_pred_svm_rob = svm.predict(scaled_data_rob)"
   ]
  },
  {
   "cell_type": "code",
   "execution_count": 35,
   "id": "ab3800a7",
   "metadata": {},
   "outputs": [
    {
     "name": "stdout",
     "output_type": "stream",
     "text": [
      "Accuracy: 82.52%\n",
      "\n",
      "Classification Report:\n",
      "               precision    recall  f1-score   support\n",
      "\n",
      "           0       0.85      0.96      0.90       671\n",
      "           1       0.57      0.23      0.33       153\n",
      "\n",
      "    accuracy                           0.83       824\n",
      "   macro avg       0.71      0.60      0.61       824\n",
      "weighted avg       0.79      0.83      0.79       824\n",
      "\n"
     ]
    }
   ],
   "source": [
    "# Reporte\n",
    "print(f\"Accuracy: {accuracy_score(y, y_pred_svm_rob) * 100:.2f}%\")\n",
    "print(\"\\nClassification Report:\\n\", classification_report(y, y_pred_svm_rob))"
   ]
  },
  {
   "cell_type": "markdown",
   "id": "5da1c0e3",
   "metadata": {},
   "source": [
    "En este caso, el recall de RobustScaler es igual que el de StandardScaler. "
   ]
  },
  {
   "cell_type": "markdown",
   "id": "f2bab2f8",
   "metadata": {},
   "source": [
    "### Conclusiones"
   ]
  },
  {
   "cell_type": "markdown",
   "id": "afed8972",
   "metadata": {},
   "source": [
    "- Para la algoritmo de árbol de decisión, no es necesario escalar la data, pues se obtiene el mismo resultado, no importa el método de escalamiento o si se escala o no. \n",
    "- El Min_Max Scaler es inferior al StandardScaler para este dataset. \n",
    "- El Robust Scaler es da los mimos resultados que el StandardScaler salvo por la regresión logística. \n",
    "- En conclusión, cambiar el método de escalamiento no altera los resultados para este dataset. "
   ]
  },
  {
   "cell_type": "markdown",
   "id": "873d9aa9",
   "metadata": {},
   "source": [
    "##  El tradeoff entre varianza y sesgo"
   ]
  },
  {
   "cell_type": "markdown",
   "id": "56cbfc28",
   "metadata": {},
   "source": [
    "En el contexto del aprendizaje automático, el compromiso entre sesgo (bias) y varianza (variance) es un aspecto fundamental para entender el comportamiento de un modelo, especialmente en relación con su capacidad de generalizar a nuevos datos.\n",
    "\n",
    "1. **Sesgo (Bias)**:\n",
    "   - Refiere a los errores sistemáticos que introduce un modelo debido a supuestos incorrectos. Un modelo con alto sesgo tiene una visión simplista de los datos y no puede capturar las verdaderas relaciones subyacentes, lo que lleva a un error en la predicción. Esto es común en modelos demasiado simples o \"subajustados\" (underfitting).\n",
    "   \n",
    "2. **Varianza (Variance)**:\n",
    "   - Refiere a la sensibilidad del modelo a pequeñas fluctuaciones en el conjunto de entrenamiento. Un modelo con alta varianza tiende a sobreajustarse (overfitting) a los datos de entrenamiento, capturando el \"ruido\" y las irregularidades en lugar de la relación subyacente real. Esto puede llevar a un rendimiento pobre cuando se expone a nuevos datos.\n",
    "   \n",
    "![Alternative text for the image](https://miro.medium.com/v2/resize:fit:828/format:webp/1*_7OPgojau8hkiPUiHoGK_w.png)"
   ]
  },
  {
   "cell_type": "markdown",
   "id": "d345cb6c",
   "metadata": {},
   "source": [
    "3. **El punto medio**:\n",
    "   - Idealmente, queremos un modelo con bajo sesgo y baja varianza, pero en la práctica, a medida que reducimos el sesgo de un modelo (haciéndolo más complejo), generalmente aumentamos su varianza y viceversa. Esta relación inversa crea un \"punto medio\" entre sesgo y varianza.\n",
    "   \n",
    "   - Visualmente, este punto medio a menudo se representa como una curva en forma de U, donde el eje vertical es el error total y el eje horizontal representa la complejidad del modelo. A medida que aumenta la complejidad del modelo, el sesgo disminuye pero la varianza aumenta. El objetivo es encontrar el punto óptimo en esta curva donde el error total (que es la suma del sesgo, la varianza y un error irreducible) sea el mínimo.\n",
    "   \n",
    "![tradeoff](http://scott.fortmann-roe.com/docs/docs/BiasVariance/biasvariance.png)\n",
    "   \n",
    "Cuando entrenamos modelos de aprendizaje automático, es crucial ser consciente de este punto medio. La elección de la complejidad del modelo, así como las técnicas de regularización, son herramientas que podemos usar para equilibrar el sesgo y la varianza y obtener un modelo que generalice bien a nuevos datos."
   ]
  },
  {
   "cell_type": "markdown",
   "id": "8f789dd2",
   "metadata": {},
   "source": [
    "Hasta el momento, **no hemos entrenado el modelo de Difficult Pay**, solo hemos aplicado los algoritmos de machine learning, pero sin un método sistemático que nos pueda ayudar a que el próximo conjunto de data que llegue de la parte comercial tega sustancialmente menos transacciones malas. En esta sesión aplicaremos el método con el cual podemos dejar el modelo entrenado para su uso comercial. "
   ]
  },
  {
   "cell_type": "markdown",
   "id": "200debca",
   "metadata": {},
   "source": [
    "## ¿Cómo entrenar un modelo?"
   ]
  },
  {
   "cell_type": "markdown",
   "id": "e669715f",
   "metadata": {},
   "source": [
    "En el contexto del aprendizaje automático supervisado, se utiliza la técnica de dividir los datos en conjuntos de entrenamiento y prueba para **asegurar que el modelo pueda generalizar bien a datos no vistos previamente.**\n",
    "\n",
    "El **conjunto de entrenamiento** es utilizado para entrenar o \"enseñar\" al modelo. Aquí, el modelo aprende las relaciones o patrones entre las características (o variables independientes) y las etiquetas (o variable dependiente) de los datos.\n",
    "\n",
    "El **conjunto de prueba**, por otro lado, se utiliza para evaluar cómo el modelo se desempeña con datos que no ha visto durante su entrenamiento. Es una simulación de cómo el modelo podría actuar en situaciones reales, con datos nuevos.\n",
    "\n",
    "La necesidad de separar los datos en estos dos conjuntos radica en la prevención del **sobreajuste** (o \"overfitting\" en inglés). El sobreajuste ocurre cuando un modelo aprende las características del conjunto de entrenamiento tan a fondo, incluyendo el ruido o las anomalías, que pierde la capacidad de generalizar a nuevos datos. Un modelo sobreajustado tiene un desempeño excelente en el conjunto de entrenamiento, pero un rendimiento pobre en el conjunto de prueba y, por extensión, en datos no vistos.\n",
    "\n",
    "Al tener un conjunto de prueba separado, podemos obtener una medida más realista de cómo el modelo se comportará en el mundo real, y asegurarnos de que no esté simplemente \"memorizando\" los datos de entrenamiento. Por lo tanto, esta división ayuda a construir modelos más robustos y confiables."
   ]
  },
  {
   "cell_type": "markdown",
   "id": "0941c828",
   "metadata": {},
   "source": [
    "Hemos estado usando la data de manera monolítica. Si fuéramos a aplicar la separación de conjunto de entrenamiento y test, tenemos muy pocas observaciones. ¿Cómo solucionar esto? `Bootstrapping`. Muestreemos con reemplazo, de manera aleatoria, un dataset que sea el 25% del total de 824 observaciones (n=206). Al hacer el muestreo de manera aleatoria, el mismo punto puede estar repetido, lo cual para nuestros fines es bueno. Se puede ingresar un número mayor de observaciones, porque, a su vez, el train_test split es aleatorio. Ojo, esto no es lo mismo que upsampling, que revisitaremos luego durante la sesión. "
   ]
  },
  {
   "cell_type": "markdown",
   "id": "d56302d8",
   "metadata": {},
   "source": [
    "### Creando un test set"
   ]
  },
  {
   "cell_type": "code",
   "execution_count": 39,
   "id": "dcb456d0",
   "metadata": {},
   "outputs": [],
   "source": [
    "# Separamos a la variable dependiente de las independientes\n",
    "X = df1[['riesgo_score1', 'riesgo_score2', 'interaccion_1', 'interaccion_2', 'monto']]\n",
    "y = df1['mala_transaccion']"
   ]
  },
  {
   "cell_type": "markdown",
   "id": "e5b07dde",
   "metadata": {},
   "source": [
    "### Train - test split"
   ]
  },
  {
   "cell_type": "markdown",
   "id": "48dcb4a7",
   "metadata": {},
   "source": [
    "Vamos a partir la data en tuplas. El train set se queda con 80% de la data y el test set con 20% de la data. Utilizaremos el algoritmo de arbol de decisión. "
   ]
  },
  {
   "cell_type": "code",
   "execution_count": 40,
   "id": "9139c583",
   "metadata": {},
   "outputs": [
    {
     "name": "stdout",
     "output_type": "stream",
     "text": [
      "El accuracy del train set: 0.838\n",
      "El accuracy del test set: 0.800\n"
     ]
    }
   ],
   "source": [
    "from sklearn.model_selection import train_test_split\n",
    "# Partir la data en tuples\n",
    "X_train, X_test, y_train, y_test = train_test_split(X, y, test_size=0.20, random_state=1)\n",
    "\n",
    "## Vamos por el arbol de decisión, que hasta ahora ha sido el clasificador más potente\n",
    "dt_model = DecisionTreeClassifier(max_depth=8)\n",
    "dt_model.fit(X_train,y_train)\n",
    "    \n",
    "#Sacando el score\n",
    "train_prediction = dt_model.predict(X_train)\n",
    "test_prediction = dt_model.predict(X_test)\n",
    "accuracy_train = accuracy_score(train_prediction, y_train)\n",
    "accuracy_test = accuracy_score(test_prediction, y_test)\n",
    "\n",
    "print(f\"El accuracy del train set: {accuracy_train:.3f}\")\n",
    "print(f\"El accuracy del test set: {accuracy_test:.3f}\")"
   ]
  },
  {
   "cell_type": "code",
   "execution_count": 41,
   "id": "369df244",
   "metadata": {},
   "outputs": [
    {
     "name": "stdout",
     "output_type": "stream",
     "text": [
      "Accuracy: 80.00%\n",
      "\n",
      "Classification Report:\n",
      "               precision    recall  f1-score   support\n",
      "\n",
      "           0       0.80      0.98      0.89       129\n",
      "           1       0.71      0.14      0.23        36\n",
      "\n",
      "    accuracy                           0.80       165\n",
      "   macro avg       0.76      0.56      0.56       165\n",
      "weighted avg       0.78      0.80      0.74       165\n",
      "\n"
     ]
    }
   ],
   "source": [
    "# Reporte de métricas respecto al test set\n",
    "print(f\"Accuracy: {accuracy_score(y_test, test_prediction) * 100:.2f}%\")\n",
    "print(\"\\nClassification Report:\\n\", classification_report(y_test, test_prediction))"
   ]
  },
  {
   "cell_type": "markdown",
   "id": "c72949f2",
   "metadata": {},
   "source": [
    "El recall es peor. El principal problema es que hemos entrenado con muy poca data. Es decir, estamos teniendo aun menos señal para el entrenamiento que la que teniamos cuando usamos los 824 datos como un monolito. "
   ]
  },
  {
   "cell_type": "markdown",
   "id": "ad4b30aa",
   "metadata": {},
   "source": [
    "## Afinamiento de parámetros"
   ]
  },
  {
   "cell_type": "markdown",
   "id": "7b7b1d91",
   "metadata": {},
   "source": [
    "Hasta el momento, estamos confiando en el supuesto de que la mejor profunidad del arbol de decisión es 8. Sin embargo, hemos introducido dos nuevas variables al dataset desde que realicé este cálculo. Deberíamos tener un método para determinar qué se puede afinar en el algoritmo y cómo lo podemos hacer de manera sistemática. Lo primero es entender qué se puede optimizar. "
   ]
  },
  {
   "cell_type": "code",
   "execution_count": 42,
   "id": "88f6f17b",
   "metadata": {},
   "outputs": [
    {
     "data": {
      "text/plain": [
       "{'ccp_alpha': 0.0,\n",
       " 'class_weight': None,\n",
       " 'criterion': 'gini',\n",
       " 'max_depth': 8,\n",
       " 'max_features': None,\n",
       " 'max_leaf_nodes': None,\n",
       " 'min_impurity_decrease': 0.0,\n",
       " 'min_samples_leaf': 1,\n",
       " 'min_samples_split': 2,\n",
       " 'min_weight_fraction_leaf': 0.0,\n",
       " 'random_state': None,\n",
       " 'splitter': 'best'}"
      ]
     },
     "execution_count": 42,
     "metadata": {},
     "output_type": "execute_result"
    }
   ],
   "source": [
    "dt_model.get_params()"
   ]
  },
  {
   "cell_type": "markdown",
   "id": "8cf0d16a",
   "metadata": {},
   "source": [
    "Podemos optimizar todos esto parámetros. Los más frecuentes de optimización son `max_depth`, `max_features` y `max_leaf_nodes`. Por ahora, concentremonos en max_depth, que es el que mayor impacto tiene sobre el overfitting. Vamos a comparar el modelo de test contra el de train"
   ]
  },
  {
   "cell_type": "code",
   "execution_count": 43,
   "id": "909d54e0",
   "metadata": {},
   "outputs": [],
   "source": [
    "# Listas de scores con cambios en max_depth\n",
    "test_scores = []\n",
    "train_scores = []\n",
    "\n",
    "max_depth_list = [4, 5, 6, 7, 8, 9, 10, 11, 12, 13, 14] \n",
    "\n",
    "for d in max_depth_list :\n",
    "    dt_mod = DecisionTreeClassifier(max_depth=d, random_state=1)\n",
    "    \n",
    "    # using the data from the second split\n",
    "    dt_mod.fit(X_train,y_train)\n",
    "    \n",
    "    train_scores.append(dt_mod.score(X_train,y_train))\n",
    "    test_scores.append(dt_mod.score(X_test,y_test))"
   ]
  },
  {
   "cell_type": "code",
   "execution_count": 44,
   "id": "7f97db8f",
   "metadata": {},
   "outputs": [
    {
     "data": {
      "image/png": "[encoded data removed]",
      "text/plain": [
       "<Figure size 640x480 with 1 Axes>"
      ]
     },
     "metadata": {},
     "output_type": "display_data"
    }
   ],
   "source": [
    "#plotting results\n",
    "plt.figure()\n",
    "plt.plot(max_depth_list,train_scores, label='Train Score',marker='.')\n",
    "plt.plot(max_depth_list,test_scores, label='Test Score',marker='.')\n",
    "plt.xlabel('d')\n",
    "plt.ylabel('Accuracy')\n",
    "plt.grid()\n",
    "plt.legend()\n",
    "plt.show()"
   ]
  },
  {
   "cell_type": "markdown",
   "id": "50c1e777",
   "metadata": {},
   "source": [
    "En el código de arriba, estamos utilizando directamente el método `score()` del modelo de árbol de decisión (`dt_mod`) para calcular los puntajes de precisión tanto para los conjuntos de datos de entrenamiento como de prueba. Este método internamente realiza predicciones y las compara con las etiquetas reales para calcular la precisión.El algoritmo sigue entrenando hasta hacer overfitting. Parece que 8 es el número óptimo, según el test set.  "
   ]
  },
  {
   "cell_type": "markdown",
   "id": "ced0b942",
   "metadata": {},
   "source": [
    "## Validación cruzada para encontrar los mejores parámetros"
   ]
  },
  {
   "cell_type": "markdown",
   "id": "ecde4922",
   "metadata": {},
   "source": [
    "La validación cruzada, denominada `cross-validation` en inglés, es una técnica utilizada para evaluar la capacidad de generalización de un modelo. La idea es utilizar diferentes subconjuntos de los datos para entrenar y probar el modelo múltiples veces, para luego promediar los resultados y obtener una estimación más robusta del rendimiento del modelo.\n",
    "\n",
    "La validación cruzada más utilizada es la **k-fold**:\n",
    "\n",
    "1. **División del conjunto de datos:** Se divide el conjunto de datos total en $ k $ subconjuntos (o \"folds\") de aproximadamente el mismo tamaño.\n",
    "\n",
    "2. **Entrenamiento y Evaluación repetida:** El proceso de entrenamiento y evaluación se repite $ k $ veces. En cada iteración, $k-1$ subconjuntos (folds) se utilizan para entrenar el modelo y el subconjunto restante se utiliza para evaluar el modelo. Esto asegura que cada subconjunto se utilice exactamente una vez como conjunto de prueba.\n",
    "\n",
    "3. **Promedio de los resultados:** Después de realizar el entrenamiento y la evaluación $ k $ veces, se promedian los resultados para obtener una única métrica de rendimiento."
   ]
  },
  {
   "cell_type": "markdown",
   "id": "cc2c4345",
   "metadata": {},
   "source": [
    "![cross_validation](https://scikit-learn.org/stable/_images/grid_search_cross_validation.png)"
   ]
  },
  {
   "cell_type": "markdown",
   "id": "306fc694",
   "metadata": {},
   "source": [
    "4. **Ventajas:**\n",
    "   - Reduce la varianza que podría resultar al dividir los datos en un único conjunto de entrenamiento y prueba. Esto puede ayudar a evitar que el modelo se sobreajuste a una particular división de los datos.\n",
    "   - Proporciona una estimación más robusta del rendimiento real del modelo.\n",
    "\n",
    "5. **Desventajas:**\n",
    "   - Requiere entrenar el modelo $ k $ veces, lo que puede ser computacionalmente costoso para conjuntos de datos grandes o modelos complejos.\n",
    "\n",
    "6. **Variantes:**\n",
    "   - **Validación cruzada estratificada:** Se utiliza cuando se tiene un desequilibrio en las clases del conjunto de datos. Garantiza que cada fold tenga aproximadamente la misma proporción de observaciones de cada clase."
   ]
  },
  {
   "cell_type": "markdown",
   "id": "223dedad",
   "metadata": {},
   "source": [
    "**¿Cómo se utiliza?**"
   ]
  },
  {
   "cell_type": "code",
   "execution_count": 45,
   "id": "b9b70f9c",
   "metadata": {},
   "outputs": [],
   "source": [
    "from sklearn.model_selection import cross_val_score"
   ]
  },
  {
   "cell_type": "code",
   "execution_count": 46,
   "id": "95f9c783",
   "metadata": {},
   "outputs": [
    {
     "name": "stdout",
     "output_type": "stream",
     "text": [
      "[0.79545455 0.79545455 0.81060606 0.78030303 0.80916031]\n"
     ]
    }
   ],
   "source": [
    "dt_mod = DecisionTreeClassifier(max_depth=8, random_state=1)\n",
    "\n",
    "scores = cross_val_score(dt_mod, X_train, y_train, cv = 5)\n",
    "print(scores)"
   ]
  },
  {
   "cell_type": "markdown",
   "id": "01d9cf94",
   "metadata": {},
   "source": [
    "Para usar la validación cruzada en la selección de modelos y la optimización de hiperparámetros, necesitamos evaluar todos los modelos resultantes de cambiar los valores de hiperparámetros que estamos considerando en cada uno de los pliegues (en nuestro caso, max_depth. La elección del hiperparámetro se reduce entonces al valor con el puntaje de validación cruzada más alto."
   ]
  },
  {
   "cell_type": "code",
   "execution_count": 47,
   "id": "308ff898",
   "metadata": {},
   "outputs": [],
   "source": [
    "# Listas de scores con cambios en max_depth\n",
    "cross_validation_scores = []\n",
    "max_depth_list = [4, 5, 6, 7, 8, 9, 10, 11, 12, 13, 14] \n",
    "\n",
    "for d in max_depth_list :\n",
    "    dt_mod = DecisionTreeClassifier(max_depth=d, random_state=1)\n",
    "    \n",
    "    # Calculando los cv scores\n",
    "    cv_score = np.mean(cross_val_score(dt_mod, X_train, y_train, cv = 5))\n",
    "    cross_validation_scores.append(cv_score)"
   ]
  },
  {
   "cell_type": "code",
   "execution_count": 48,
   "id": "9b03217d",
   "metadata": {},
   "outputs": [
    {
     "data": {
      "image/png": "[encoded data removed]",
      "text/plain": [
       "<Figure size 640x480 with 1 Axes>"
      ]
     },
     "metadata": {},
     "output_type": "display_data"
    }
   ],
   "source": [
    "#Graficando los resultados\n",
    "plt.figure()\n",
    "plt.plot(max_depth_list, cross_validation_scores,label=\"Cross Validation Score\",marker='.')\n",
    "plt.legend()\n",
    "plt.xlabel('Max_depth: d')\n",
    "plt.ylabel('Cross Validation Score')\n",
    "plt.grid()\n",
    "plt.show();"
   ]
  },
  {
   "cell_type": "markdown",
   "id": "4962cf9c",
   "metadata": {},
   "source": [
    "En este caso, 6 nos darían el resutlado óptimo y no 8. "
   ]
  },
  {
   "cell_type": "code",
   "execution_count": 49,
   "id": "6bf0a993",
   "metadata": {},
   "outputs": [],
   "source": [
    "# En caso que los parámetros (en otros algoritmos) sean más complicados de leer\n",
    "best_value_idx = np.argmax(cross_validation_scores)"
   ]
  },
  {
   "cell_type": "code",
   "execution_count": 50,
   "id": "a1720944",
   "metadata": {},
   "outputs": [
    {
     "data": {
      "text/plain": [
       "6"
      ]
     },
     "execution_count": 50,
     "metadata": {},
     "output_type": "execute_result"
    }
   ],
   "source": [
    "# el mejor valor de la lista es \n",
    "max_depth_list[best_value_idx]"
   ]
  },
  {
   "cell_type": "markdown",
   "id": "586c87eb",
   "metadata": {},
   "source": [
    "El resultado óptimo es 6. "
   ]
  },
  {
   "cell_type": "code",
   "execution_count": 51,
   "id": "fddb4135",
   "metadata": {},
   "outputs": [
    {
     "name": "stdout",
     "output_type": "stream",
     "text": [
      "El accuracy del train set: 0.833\n",
      "El accuracy del test set: 0.794\n"
     ]
    }
   ],
   "source": [
    "## Ahora si corremos nuestro modelo con 6 como max depth\n",
    "X_train, X_test, y_train, y_test = train_test_split(X, y, test_size=0.20, random_state=1)\n",
    "\n",
    "## Vamos por el arbol de decisión, que hasta ahora ha sido el clasificador más potente\n",
    "\n",
    "dt_model = DecisionTreeClassifier(max_depth=6)\n",
    "dt_model.fit(X_train,y_train)\n",
    "    \n",
    "#Sacando el score\n",
    "train_prediction = dt_model.predict(X_train)\n",
    "test_prediction = dt_model.predict(X_test)\n",
    "accuracy_train = accuracy_score(train_prediction, y_train)\n",
    "accuracy_test = accuracy_score(test_prediction, y_test)\n",
    "\n",
    "print(f\"El accuracy del train set: {accuracy_train:.3f}\")\n",
    "print(f\"El accuracy del test set: {accuracy_test:.3f}\")"
   ]
  },
  {
   "cell_type": "markdown",
   "id": "9ce8d947",
   "metadata": {},
   "source": [
    "Este resultado es el que nos garantiza que no estemos haciendo overfitting. Hay una pérdida de 4 puntos en el accuracy entre el train y el test set. "
   ]
  },
  {
   "cell_type": "markdown",
   "id": "29145bb9",
   "metadata": {},
   "source": [
    "El modelo de 6 de `max_depth`es \"más puro\" en el sentido técncio. Pero, tenemos muy pocos datos. Lo que está haciendo el algoritmo es armar 5 subconjuntos train-test de igual numero de observaciones. El train tiene 659 observaciones. O sea que cada fold separa 20% (132) para test y entrena con 527."
   ]
  },
  {
   "cell_type": "code",
   "execution_count": 53,
   "id": "4f107f74",
   "metadata": {},
   "outputs": [
    {
     "name": "stdout",
     "output_type": "stream",
     "text": [
      "Accuracy: 83.31%\n",
      "\n",
      "Classification Report:\n",
      "               precision    recall  f1-score   support\n",
      "\n",
      "           0       0.86      0.95      0.90       542\n",
      "           1       0.55      0.31      0.40       117\n",
      "\n",
      "    accuracy                           0.83       659\n",
      "   macro avg       0.71      0.63      0.65       659\n",
      "weighted avg       0.81      0.83      0.81       659\n",
      "\n"
     ]
    }
   ],
   "source": [
    "# Reporte\n",
    "print(f\"Accuracy: {accuracy_score(y_train, train_prediction) * 100:.2f}%\")\n",
    "print(\"\\nClassification Report:\\n\", classification_report(y_train, train_prediction))"
   ]
  },
  {
   "cell_type": "markdown",
   "id": "b8062bbf",
   "metadata": {},
   "source": [
    "Tenemos un recall de 0.31, el mejor hasta ahora de los modelos individuales. "
   ]
  },
  {
   "cell_type": "code",
   "execution_count": 54,
   "id": "b00eef9e",
   "metadata": {},
   "outputs": [
    {
     "name": "stdout",
     "output_type": "stream",
     "text": [
      "Accuracy: 79.39%\n",
      "\n",
      "Classification Report:\n",
      "               precision    recall  f1-score   support\n",
      "\n",
      "           0       0.81      0.95      0.88       129\n",
      "           1       0.57      0.22      0.32        36\n",
      "\n",
      "    accuracy                           0.79       165\n",
      "   macro avg       0.69      0.59      0.60       165\n",
      "weighted avg       0.76      0.79      0.76       165\n",
      "\n"
     ]
    }
   ],
   "source": [
    "# Reporte\n",
    "print(f\"Accuracy: {accuracy_score(y_test, test_prediction) * 100:.2f}%\")\n",
    "print(\"\\nClassification Report:\\n\", classification_report(y_test, test_prediction))"
   ]
  },
  {
   "cell_type": "markdown",
   "id": "322418fa",
   "metadata": {},
   "source": [
    "El recall del test set es pobre aun con 22%. Debemos hacer algunas cosas más para mejorarlo. "
   ]
  },
  {
   "cell_type": "markdown",
   "id": "75c4edbb",
   "metadata": {},
   "source": [
    "## Revisitando las clases desbalanceadas"
   ]
  },
  {
   "cell_type": "markdown",
   "id": "b36d8fea",
   "metadata": {},
   "source": [
    "En la clase anterior balanceamos el panel de datos de manera que tuviésemos el mismo número de 1s y 0s. A diferencia del tomado de muestra que hicimos en el numeral anterior, para que la nueva muestra fuese el test set, en este caso ampliaremos el panel nuevo para que tenga las clases balanceadas y de ahi dividiremos en train y test set. "
   ]
  },
  {
   "cell_type": "code",
   "execution_count": 55,
   "id": "77fa57a1",
   "metadata": {},
   "outputs": [],
   "source": [
    "# Separamos a la variable dependiente de las independientes\n",
    "X = df1[['riesgo_score1', 'riesgo_score2', 'interaccion_1', 'interaccion_2', 'monto']]\n",
    "y = df1['mala_transaccion']"
   ]
  },
  {
   "cell_type": "code",
   "execution_count": 56,
   "id": "7282cfad",
   "metadata": {},
   "outputs": [],
   "source": [
    "# Identifica los verdaderos positivos en los datos de entrenamiento\n",
    "verdaderos_positivos = X[y == 1]"
   ]
  },
  {
   "cell_type": "code",
   "execution_count": 57,
   "id": "abbf447f",
   "metadata": {},
   "outputs": [
    {
     "data": {
      "text/html": [
       "<div>\n",
       "<style scoped>\n",
       "    .dataframe tbody tr th:only-of-type {\n",
       "        vertical-align: middle;\n",
       "    }\n",
       "\n",
       "    .dataframe tbody tr th {\n",
       "        vertical-align: top;\n",
       "    }\n",
       "\n",
       "    .dataframe thead th {\n",
       "        text-align: right;\n",
       "    }\n",
       "</style>\n",
       "<table border=\"1\" class=\"dataframe\">\n",
       "  <thead>\n",
       "    <tr style=\"text-align: right;\">\n",
       "      <th></th>\n",
       "      <th>riesgo_score1</th>\n",
       "      <th>riesgo_score2</th>\n",
       "      <th>interaccion_1</th>\n",
       "      <th>interaccion_2</th>\n",
       "      <th>monto</th>\n",
       "    </tr>\n",
       "  </thead>\n",
       "  <tbody>\n",
       "    <tr>\n",
       "      <th>118</th>\n",
       "      <td>0</td>\n",
       "      <td>0</td>\n",
       "      <td>0</td>\n",
       "      <td>0</td>\n",
       "      <td>75</td>\n",
       "    </tr>\n",
       "    <tr>\n",
       "      <th>120</th>\n",
       "      <td>0</td>\n",
       "      <td>0</td>\n",
       "      <td>0</td>\n",
       "      <td>0</td>\n",
       "      <td>75</td>\n",
       "    </tr>\n",
       "    <tr>\n",
       "      <th>123</th>\n",
       "      <td>0</td>\n",
       "      <td>1</td>\n",
       "      <td>0</td>\n",
       "      <td>1</td>\n",
       "      <td>75</td>\n",
       "    </tr>\n",
       "    <tr>\n",
       "      <th>137</th>\n",
       "      <td>1</td>\n",
       "      <td>0</td>\n",
       "      <td>0</td>\n",
       "      <td>1</td>\n",
       "      <td>59</td>\n",
       "    </tr>\n",
       "    <tr>\n",
       "      <th>138</th>\n",
       "      <td>0</td>\n",
       "      <td>0</td>\n",
       "      <td>0</td>\n",
       "      <td>0</td>\n",
       "      <td>99</td>\n",
       "    </tr>\n",
       "    <tr>\n",
       "      <th>...</th>\n",
       "      <td>...</td>\n",
       "      <td>...</td>\n",
       "      <td>...</td>\n",
       "      <td>...</td>\n",
       "      <td>...</td>\n",
       "    </tr>\n",
       "    <tr>\n",
       "      <th>734</th>\n",
       "      <td>0</td>\n",
       "      <td>0</td>\n",
       "      <td>0</td>\n",
       "      <td>0</td>\n",
       "      <td>75</td>\n",
       "    </tr>\n",
       "    <tr>\n",
       "      <th>735</th>\n",
       "      <td>1</td>\n",
       "      <td>0</td>\n",
       "      <td>0</td>\n",
       "      <td>1</td>\n",
       "      <td>75</td>\n",
       "    </tr>\n",
       "    <tr>\n",
       "      <th>736</th>\n",
       "      <td>1</td>\n",
       "      <td>0</td>\n",
       "      <td>0</td>\n",
       "      <td>1</td>\n",
       "      <td>75</td>\n",
       "    </tr>\n",
       "    <tr>\n",
       "      <th>737</th>\n",
       "      <td>1</td>\n",
       "      <td>0</td>\n",
       "      <td>0</td>\n",
       "      <td>1</td>\n",
       "      <td>75</td>\n",
       "    </tr>\n",
       "    <tr>\n",
       "      <th>809</th>\n",
       "      <td>0</td>\n",
       "      <td>0</td>\n",
       "      <td>0</td>\n",
       "      <td>0</td>\n",
       "      <td>99</td>\n",
       "    </tr>\n",
       "  </tbody>\n",
       "</table>\n",
       "<p>153 rows × 5 columns</p>\n",
       "</div>"
      ],
      "text/plain": [
       "     riesgo_score1  riesgo_score2  interaccion_1  interaccion_2  monto\n",
       "118              0              0              0              0     75\n",
       "120              0              0              0              0     75\n",
       "123              0              1              0              1     75\n",
       "137              1              0              0              1     59\n",
       "138              0              0              0              0     99\n",
       "..             ...            ...            ...            ...    ...\n",
       "734              0              0              0              0     75\n",
       "735              1              0              0              1     75\n",
       "736              1              0              0              1     75\n",
       "737              1              0              0              1     75\n",
       "809              0              0              0              0     99\n",
       "\n",
       "[153 rows x 5 columns]"
      ]
     },
     "execution_count": 57,
     "metadata": {},
     "output_type": "execute_result"
    }
   ],
   "source": [
    "verdaderos_positivos"
   ]
  },
  {
   "cell_type": "code",
   "execution_count": 59,
   "id": "2bcf1ac1",
   "metadata": {},
   "outputs": [],
   "source": [
    "# Sobremuestrea los verdaderos positivos utilizando muestreo aleatorio\n",
    "verdaderos_positivos_sobremuestreados = verdaderos_positivos.sample(\n",
    "    n=len(X[y == 0]),  # Coincide con el número de verdaderos negativos\n",
    "    replace=True,  # Permite el muestreo con reemplazo\n",
    "    random_state=1  # Establece una semilla aleatoria para reproducibilidad\n",
    ")"
   ]
  },
  {
   "cell_type": "code",
   "execution_count": 60,
   "id": "466cd106",
   "metadata": {},
   "outputs": [
    {
     "data": {
      "text/html": [
       "<div>\n",
       "<style scoped>\n",
       "    .dataframe tbody tr th:only-of-type {\n",
       "        vertical-align: middle;\n",
       "    }\n",
       "\n",
       "    .dataframe tbody tr th {\n",
       "        vertical-align: top;\n",
       "    }\n",
       "\n",
       "    .dataframe thead th {\n",
       "        text-align: right;\n",
       "    }\n",
       "</style>\n",
       "<table border=\"1\" class=\"dataframe\">\n",
       "  <thead>\n",
       "    <tr style=\"text-align: right;\">\n",
       "      <th></th>\n",
       "      <th>riesgo_score1</th>\n",
       "      <th>riesgo_score2</th>\n",
       "      <th>interaccion_1</th>\n",
       "      <th>interaccion_2</th>\n",
       "      <th>monto</th>\n",
       "    </tr>\n",
       "  </thead>\n",
       "  <tbody>\n",
       "    <tr>\n",
       "      <th>410</th>\n",
       "      <td>0</td>\n",
       "      <td>0</td>\n",
       "      <td>0</td>\n",
       "      <td>1</td>\n",
       "      <td>59</td>\n",
       "    </tr>\n",
       "    <tr>\n",
       "      <th>726</th>\n",
       "      <td>1</td>\n",
       "      <td>0</td>\n",
       "      <td>0</td>\n",
       "      <td>1</td>\n",
       "      <td>99</td>\n",
       "    </tr>\n",
       "    <tr>\n",
       "      <th>658</th>\n",
       "      <td>0</td>\n",
       "      <td>0</td>\n",
       "      <td>0</td>\n",
       "      <td>1</td>\n",
       "      <td>75</td>\n",
       "    </tr>\n",
       "    <tr>\n",
       "      <th>723</th>\n",
       "      <td>1</td>\n",
       "      <td>0</td>\n",
       "      <td>0</td>\n",
       "      <td>1</td>\n",
       "      <td>99</td>\n",
       "    </tr>\n",
       "    <tr>\n",
       "      <th>719</th>\n",
       "      <td>0</td>\n",
       "      <td>1</td>\n",
       "      <td>0</td>\n",
       "      <td>1</td>\n",
       "      <td>99</td>\n",
       "    </tr>\n",
       "    <tr>\n",
       "      <th>...</th>\n",
       "      <td>...</td>\n",
       "      <td>...</td>\n",
       "      <td>...</td>\n",
       "      <td>...</td>\n",
       "      <td>...</td>\n",
       "    </tr>\n",
       "    <tr>\n",
       "      <th>272</th>\n",
       "      <td>0</td>\n",
       "      <td>0</td>\n",
       "      <td>0</td>\n",
       "      <td>0</td>\n",
       "      <td>74</td>\n",
       "    </tr>\n",
       "    <tr>\n",
       "      <th>650</th>\n",
       "      <td>1</td>\n",
       "      <td>0</td>\n",
       "      <td>0</td>\n",
       "      <td>0</td>\n",
       "      <td>74</td>\n",
       "    </tr>\n",
       "    <tr>\n",
       "      <th>572</th>\n",
       "      <td>1</td>\n",
       "      <td>0</td>\n",
       "      <td>0</td>\n",
       "      <td>1</td>\n",
       "      <td>100</td>\n",
       "    </tr>\n",
       "    <tr>\n",
       "      <th>585</th>\n",
       "      <td>0</td>\n",
       "      <td>0</td>\n",
       "      <td>0</td>\n",
       "      <td>1</td>\n",
       "      <td>99</td>\n",
       "    </tr>\n",
       "    <tr>\n",
       "      <th>735</th>\n",
       "      <td>1</td>\n",
       "      <td>0</td>\n",
       "      <td>0</td>\n",
       "      <td>1</td>\n",
       "      <td>75</td>\n",
       "    </tr>\n",
       "  </tbody>\n",
       "</table>\n",
       "<p>671 rows × 5 columns</p>\n",
       "</div>"
      ],
      "text/plain": [
       "     riesgo_score1  riesgo_score2  interaccion_1  interaccion_2  monto\n",
       "410              0              0              0              1     59\n",
       "726              1              0              0              1     99\n",
       "658              0              0              0              1     75\n",
       "723              1              0              0              1     99\n",
       "719              0              1              0              1     99\n",
       "..             ...            ...            ...            ...    ...\n",
       "272              0              0              0              0     74\n",
       "650              1              0              0              0     74\n",
       "572              1              0              0              1    100\n",
       "585              0              0              0              1     99\n",
       "735              1              0              0              1     75\n",
       "\n",
       "[671 rows x 5 columns]"
      ]
     },
     "execution_count": 60,
     "metadata": {},
     "output_type": "execute_result"
    }
   ],
   "source": [
    "verdaderos_positivos_sobremuestreados"
   ]
  },
  {
   "cell_type": "code",
   "execution_count": 61,
   "id": "4c103e5c",
   "metadata": {},
   "outputs": [],
   "source": [
    "# Combina los verdaderos positivos sobremuestreados con los verdaderos negativos\n",
    "X_sobremuestreado = pd.concat([X[y == 0], verdaderos_positivos_sobremuestreados])\n",
    "y_sobremuestreado = pd.Series([0] * len(X[y== 0]) + [1] * len(verdaderos_positivos_sobremuestreados))"
   ]
  },
  {
   "cell_type": "code",
   "execution_count": 62,
   "id": "8d9f0bf0",
   "metadata": {},
   "outputs": [
    {
     "data": {
      "text/html": [
       "<div>\n",
       "<style scoped>\n",
       "    .dataframe tbody tr th:only-of-type {\n",
       "        vertical-align: middle;\n",
       "    }\n",
       "\n",
       "    .dataframe tbody tr th {\n",
       "        vertical-align: top;\n",
       "    }\n",
       "\n",
       "    .dataframe thead th {\n",
       "        text-align: right;\n",
       "    }\n",
       "</style>\n",
       "<table border=\"1\" class=\"dataframe\">\n",
       "  <thead>\n",
       "    <tr style=\"text-align: right;\">\n",
       "      <th></th>\n",
       "      <th>riesgo_score1</th>\n",
       "      <th>riesgo_score2</th>\n",
       "      <th>interaccion_1</th>\n",
       "      <th>interaccion_2</th>\n",
       "      <th>monto</th>\n",
       "    </tr>\n",
       "  </thead>\n",
       "  <tbody>\n",
       "    <tr>\n",
       "      <th>0</th>\n",
       "      <td>0</td>\n",
       "      <td>1</td>\n",
       "      <td>0</td>\n",
       "      <td>1</td>\n",
       "      <td>79</td>\n",
       "    </tr>\n",
       "    <tr>\n",
       "      <th>1</th>\n",
       "      <td>0</td>\n",
       "      <td>0</td>\n",
       "      <td>0</td>\n",
       "      <td>0</td>\n",
       "      <td>99</td>\n",
       "    </tr>\n",
       "    <tr>\n",
       "      <th>2</th>\n",
       "      <td>0</td>\n",
       "      <td>1</td>\n",
       "      <td>0</td>\n",
       "      <td>1</td>\n",
       "      <td>50</td>\n",
       "    </tr>\n",
       "    <tr>\n",
       "      <th>3</th>\n",
       "      <td>0</td>\n",
       "      <td>0</td>\n",
       "      <td>0</td>\n",
       "      <td>0</td>\n",
       "      <td>79</td>\n",
       "    </tr>\n",
       "    <tr>\n",
       "      <th>4</th>\n",
       "      <td>0</td>\n",
       "      <td>0</td>\n",
       "      <td>0</td>\n",
       "      <td>0</td>\n",
       "      <td>99</td>\n",
       "    </tr>\n",
       "    <tr>\n",
       "      <th>...</th>\n",
       "      <td>...</td>\n",
       "      <td>...</td>\n",
       "      <td>...</td>\n",
       "      <td>...</td>\n",
       "      <td>...</td>\n",
       "    </tr>\n",
       "    <tr>\n",
       "      <th>272</th>\n",
       "      <td>0</td>\n",
       "      <td>0</td>\n",
       "      <td>0</td>\n",
       "      <td>0</td>\n",
       "      <td>74</td>\n",
       "    </tr>\n",
       "    <tr>\n",
       "      <th>650</th>\n",
       "      <td>1</td>\n",
       "      <td>0</td>\n",
       "      <td>0</td>\n",
       "      <td>0</td>\n",
       "      <td>74</td>\n",
       "    </tr>\n",
       "    <tr>\n",
       "      <th>572</th>\n",
       "      <td>1</td>\n",
       "      <td>0</td>\n",
       "      <td>0</td>\n",
       "      <td>1</td>\n",
       "      <td>100</td>\n",
       "    </tr>\n",
       "    <tr>\n",
       "      <th>585</th>\n",
       "      <td>0</td>\n",
       "      <td>0</td>\n",
       "      <td>0</td>\n",
       "      <td>1</td>\n",
       "      <td>99</td>\n",
       "    </tr>\n",
       "    <tr>\n",
       "      <th>735</th>\n",
       "      <td>1</td>\n",
       "      <td>0</td>\n",
       "      <td>0</td>\n",
       "      <td>1</td>\n",
       "      <td>75</td>\n",
       "    </tr>\n",
       "  </tbody>\n",
       "</table>\n",
       "<p>1342 rows × 5 columns</p>\n",
       "</div>"
      ],
      "text/plain": [
       "     riesgo_score1  riesgo_score2  interaccion_1  interaccion_2  monto\n",
       "0                0              1              0              1     79\n",
       "1                0              0              0              0     99\n",
       "2                0              1              0              1     50\n",
       "3                0              0              0              0     79\n",
       "4                0              0              0              0     99\n",
       "..             ...            ...            ...            ...    ...\n",
       "272              0              0              0              0     74\n",
       "650              1              0              0              0     74\n",
       "572              1              0              0              1    100\n",
       "585              0              0              0              1     99\n",
       "735              1              0              0              1     75\n",
       "\n",
       "[1342 rows x 5 columns]"
      ]
     },
     "execution_count": 62,
     "metadata": {},
     "output_type": "execute_result"
    }
   ],
   "source": [
    "X_sobremuestreado "
   ]
  },
  {
   "cell_type": "code",
   "execution_count": 63,
   "id": "0ddb04a3",
   "metadata": {},
   "outputs": [],
   "source": [
    "### Quiero reindexar el df para que sea correlativo \n",
    "X_sobremuestreado.reset_index(inplace=True)"
   ]
  },
  {
   "cell_type": "code",
   "execution_count": 64,
   "id": "682645ba",
   "metadata": {},
   "outputs": [],
   "source": [
    "## descarto la nueva columna index, creada automaticamente\n",
    "X_sobremuestreado.drop('index', axis=1, inplace=True)"
   ]
  },
  {
   "cell_type": "code",
   "execution_count": 65,
   "id": "744b1325",
   "metadata": {},
   "outputs": [
    {
     "data": {
      "text/html": [
       "<div>\n",
       "<style scoped>\n",
       "    .dataframe tbody tr th:only-of-type {\n",
       "        vertical-align: middle;\n",
       "    }\n",
       "\n",
       "    .dataframe tbody tr th {\n",
       "        vertical-align: top;\n",
       "    }\n",
       "\n",
       "    .dataframe thead th {\n",
       "        text-align: right;\n",
       "    }\n",
       "</style>\n",
       "<table border=\"1\" class=\"dataframe\">\n",
       "  <thead>\n",
       "    <tr style=\"text-align: right;\">\n",
       "      <th></th>\n",
       "      <th>riesgo_score1</th>\n",
       "      <th>riesgo_score2</th>\n",
       "      <th>interaccion_1</th>\n",
       "      <th>interaccion_2</th>\n",
       "      <th>monto</th>\n",
       "    </tr>\n",
       "  </thead>\n",
       "  <tbody>\n",
       "    <tr>\n",
       "      <th>0</th>\n",
       "      <td>0</td>\n",
       "      <td>1</td>\n",
       "      <td>0</td>\n",
       "      <td>1</td>\n",
       "      <td>79</td>\n",
       "    </tr>\n",
       "    <tr>\n",
       "      <th>1</th>\n",
       "      <td>0</td>\n",
       "      <td>0</td>\n",
       "      <td>0</td>\n",
       "      <td>0</td>\n",
       "      <td>99</td>\n",
       "    </tr>\n",
       "    <tr>\n",
       "      <th>2</th>\n",
       "      <td>0</td>\n",
       "      <td>1</td>\n",
       "      <td>0</td>\n",
       "      <td>1</td>\n",
       "      <td>50</td>\n",
       "    </tr>\n",
       "    <tr>\n",
       "      <th>3</th>\n",
       "      <td>0</td>\n",
       "      <td>0</td>\n",
       "      <td>0</td>\n",
       "      <td>0</td>\n",
       "      <td>79</td>\n",
       "    </tr>\n",
       "    <tr>\n",
       "      <th>4</th>\n",
       "      <td>0</td>\n",
       "      <td>0</td>\n",
       "      <td>0</td>\n",
       "      <td>0</td>\n",
       "      <td>99</td>\n",
       "    </tr>\n",
       "    <tr>\n",
       "      <th>...</th>\n",
       "      <td>...</td>\n",
       "      <td>...</td>\n",
       "      <td>...</td>\n",
       "      <td>...</td>\n",
       "      <td>...</td>\n",
       "    </tr>\n",
       "    <tr>\n",
       "      <th>1337</th>\n",
       "      <td>0</td>\n",
       "      <td>0</td>\n",
       "      <td>0</td>\n",
       "      <td>0</td>\n",
       "      <td>74</td>\n",
       "    </tr>\n",
       "    <tr>\n",
       "      <th>1338</th>\n",
       "      <td>1</td>\n",
       "      <td>0</td>\n",
       "      <td>0</td>\n",
       "      <td>0</td>\n",
       "      <td>74</td>\n",
       "    </tr>\n",
       "    <tr>\n",
       "      <th>1339</th>\n",
       "      <td>1</td>\n",
       "      <td>0</td>\n",
       "      <td>0</td>\n",
       "      <td>1</td>\n",
       "      <td>100</td>\n",
       "    </tr>\n",
       "    <tr>\n",
       "      <th>1340</th>\n",
       "      <td>0</td>\n",
       "      <td>0</td>\n",
       "      <td>0</td>\n",
       "      <td>1</td>\n",
       "      <td>99</td>\n",
       "    </tr>\n",
       "    <tr>\n",
       "      <th>1341</th>\n",
       "      <td>1</td>\n",
       "      <td>0</td>\n",
       "      <td>0</td>\n",
       "      <td>1</td>\n",
       "      <td>75</td>\n",
       "    </tr>\n",
       "  </tbody>\n",
       "</table>\n",
       "<p>1342 rows × 5 columns</p>\n",
       "</div>"
      ],
      "text/plain": [
       "      riesgo_score1  riesgo_score2  interaccion_1  interaccion_2  monto\n",
       "0                 0              1              0              1     79\n",
       "1                 0              0              0              0     99\n",
       "2                 0              1              0              1     50\n",
       "3                 0              0              0              0     79\n",
       "4                 0              0              0              0     99\n",
       "...             ...            ...            ...            ...    ...\n",
       "1337              0              0              0              0     74\n",
       "1338              1              0              0              0     74\n",
       "1339              1              0              0              1    100\n",
       "1340              0              0              0              1     99\n",
       "1341              1              0              0              1     75\n",
       "\n",
       "[1342 rows x 5 columns]"
      ]
     },
     "execution_count": 65,
     "metadata": {},
     "output_type": "execute_result"
    }
   ],
   "source": [
    "X_sobremuestreado"
   ]
  },
  {
   "cell_type": "markdown",
   "id": "aefcfe21",
   "metadata": {},
   "source": [
    "El df queda limpio, con 1341 observaciones. "
   ]
  },
  {
   "cell_type": "code",
   "execution_count": 80,
   "id": "b73d254d",
   "metadata": {},
   "outputs": [
    {
     "data": {
      "text/plain": [
       "0       0\n",
       "1       0\n",
       "2       0\n",
       "3       0\n",
       "4       0\n",
       "       ..\n",
       "1337    1\n",
       "1338    1\n",
       "1339    1\n",
       "1340    1\n",
       "1341    1\n",
       "Length: 1342, dtype: int64"
      ]
     },
     "execution_count": 80,
     "metadata": {},
     "output_type": "execute_result"
    }
   ],
   "source": [
    "y_sobremuestreado"
   ]
  },
  {
   "cell_type": "markdown",
   "id": "926514a0",
   "metadata": {},
   "source": [
    "El vector y_sobremuestreado tiene igual numero de 1s que 0s. "
   ]
  },
  {
   "cell_type": "code",
   "execution_count": 66,
   "id": "0ddb5a62",
   "metadata": {
    "scrolled": true
   },
   "outputs": [
    {
     "data": {
      "text/plain": [
       "671"
      ]
     },
     "execution_count": 66,
     "metadata": {},
     "output_type": "execute_result"
    }
   ],
   "source": [
    "y_sobremuestreado.sum() "
   ]
  },
  {
   "cell_type": "code",
   "execution_count": 70,
   "id": "75863504",
   "metadata": {},
   "outputs": [
    {
     "name": "stdout",
     "output_type": "stream",
     "text": [
      "El accuracy del train set: 0.743\n",
      "El accuracy del test set: 0.755\n"
     ]
    }
   ],
   "source": [
    "## Ahora si corremos nuestro modelo de nuevo de arbol de decisión con 6 como max depth, un test size de 20%\n",
    "X_train_1, X_test_1, y_train_1, y_test_1 = train_test_split(X_sobremuestreado, y_sobremuestreado, test_size=0.20, random_state=1)\n",
    "\n",
    "## Vamos por el arbol de decisión, que hasta ahora ha sido el clasificador más potente, con max depth 6\n",
    "dt_model = DecisionTreeClassifier(max_depth=6)\n",
    "dt_model.fit(X_train_1,y_train_1)\n",
    "    \n",
    "#Sacando el score\n",
    "train_prediction = dt_model.predict(X_train_1)\n",
    "test_prediction = dt_model.predict(X_test_1)\n",
    "accuracy_train = accuracy_score(train_prediction, y_train_1)\n",
    "accuracy_test = accuracy_score(test_prediction, y_test_1)\n",
    "\n",
    "print(f\"El accuracy del train set: {accuracy_train:.3f}\")\n",
    "print(f\"El accuracy del test set: {accuracy_test:.3f}\")"
   ]
  },
  {
   "cell_type": "code",
   "execution_count": 71,
   "id": "7fe571af",
   "metadata": {},
   "outputs": [
    {
     "name": "stdout",
     "output_type": "stream",
     "text": [
      "Accuracy: 75.46%\n",
      "\n",
      "Classification Report:\n",
      "               precision    recall  f1-score   support\n",
      "\n",
      "           0       0.77      0.75      0.76       139\n",
      "           1       0.74      0.76      0.75       130\n",
      "\n",
      "    accuracy                           0.75       269\n",
      "   macro avg       0.75      0.75      0.75       269\n",
      "weighted avg       0.76      0.75      0.75       269\n",
      "\n"
     ]
    }
   ],
   "source": [
    "# Reporte\n",
    "print(f\"Accuracy: {accuracy_score(y_test_1, test_prediction) * 100:.2f}%\")\n",
    "print(\"\\nClassification Report:\\n\", classification_report(y_test_1, test_prediction))"
   ]
  },
  {
   "cell_type": "code",
   "execution_count": 72,
   "id": "86e0173f",
   "metadata": {},
   "outputs": [
    {
     "data": {
      "image/png": "[encoded data removed]",
      "text/plain": [
       "<Figure size 640x480 with 2 Axes>"
      ]
     },
     "metadata": {},
     "output_type": "display_data"
    }
   ],
   "source": [
    "# generando la matriz de confusion \n",
    "cf_matrix = confusion_matrix(y_test_1,test_prediction )\n",
    "\n",
    "# presentando la matriz\n",
    "ConfusionMatrixDisplay(cf_matrix).plot(cmap='Reds')\n",
    "plt.show()"
   ]
  },
  {
   "cell_type": "markdown",
   "id": "f350378b",
   "metadata": {},
   "source": [
    "Este modelo tiene un recall mucho mejor, aunque menor accuracy. ¿Es rentable el negocio en este punto?"
   ]
  },
  {
   "cell_type": "markdown",
   "id": "9eac6bea",
   "metadata": {},
   "source": [
    "- Hay 104 buenas transacciones, \n",
    "- El modelo detecto 99 malas transacciones antes que ocurran, \n",
    "- Dejo pasar 35 buenas transacciones\n",
    "- Dejó pasar 31 malas transacciones. "
   ]
  },
  {
   "cell_type": "markdown",
   "id": "b57c9097",
   "metadata": {},
   "source": [
    "Si cada transaccion en promedio es USD 75, por ejemplo, el ingreso se genera con 100 transacciones por USD 75  por 5% de comisiones. 375 dólares de ingreso. \n",
    "Pero pierde el 100% de 31 transacciones, $2325 en total. Es decir, ha perdido casi 2000 con este modelo, aplicado sobre la nueva data. \n",
    "Necesitamos más data, más variables y quizás, en los márgnenes, con una optimización de parámetros. Veamos cuánto ayuda esto último. "
   ]
  },
  {
   "cell_type": "markdown",
   "id": "d78fdc4f",
   "metadata": {},
   "source": [
    "## Optimización de hiperparámetros"
   ]
  },
  {
   "cell_type": "markdown",
   "id": "be63c4ba",
   "metadata": {},
   "source": [
    "La manera más exhaustiva de afinar un model es usar un método de simulación de parámetros. Los dos más usados son GridSearch y RandomSearch."
   ]
  },
  {
   "cell_type": "markdown",
   "id": "fcc2ff69",
   "metadata": {},
   "source": [
    "![gridsearch](https://miro.medium.com/v2/resize:fit:828/format:webp/1*Xq9OvMKXhrF3W2RBJCWW7w.png)"
   ]
  },
  {
   "cell_type": "markdown",
   "id": "38b62b60",
   "metadata": {},
   "source": [
    "**GridSearch (Búsqueda por Rejilla)**\n",
    "GridSearch, o Búsqueda por Rejilla, es una técnica de optimización para modelos de aprendizaje automático. Consiste en especificar un conjunto de posibles valores para cada hiperparámetro del modelo. Luego, GridSearch crea una 'rejilla' de todas las posibles combinaciones de estos valores de hiperparámetros y entrena un modelo para cada combinación. Al final, selecciona la combinación de hiperparámetros que produce el mejor rendimiento, de acuerdo a alguna métrica predefinida (por ejemplo, precisión, error cuadrático medio, etc.).\n",
    "\n",
    "**Pros:**\n",
    "1. Es exhaustivo, pues prueba todas las combinaciones posibles.\n",
    "2. Es determinístico, dado que para los mismos datos e hiperparámetros siempre se obtendrá el mismo resultado.\n",
    "\n",
    "**Contras:**\n",
    "1. Puede ser computacionalmente costoso, especialmente si hay muchos hiperparámetros o si los rangos de valores son amplios."
   ]
  },
  {
   "cell_type": "markdown",
   "id": "e8fdeb49",
   "metadata": {},
   "source": [
    "**RandomSearch (Búsqueda Aleatoria)**\n",
    "RandomSearch, o Búsqueda Aleatoria, es otra técnica para optimizar hiperparámetros. A diferencia de GridSearch, no prueba todas las combinaciones posibles. En su lugar, selecciona combinaciones al azar de hiperparámetros dentro de los rangos especificados y entrena un modelo para cada una. Se define previamente un número fijo de iteraciones o combinaciones a probar.\n",
    "\n",
    "**Pros:**\n",
    "1. Es más rápido que GridSearch, especialmente si el número de combinaciones posibles es muy alto.\n",
    "2. Puede explorar un espacio más amplio de hiperparámetros en menos tiempo.\n",
    "3. En muchos casos, se ha encontrado que RandomSearch encuentra combinaciones de hiperparámetros tan buenas o incluso mejores que GridSearch en menos iteraciones.\n",
    "\n",
    "**Contras:**\n",
    "1. No es exhaustivo, por lo que podría no encontrar la combinación óptima.\n",
    "2. Es no determinístico, ya que las combinaciones se eligen al azar."
   ]
  },
  {
   "cell_type": "code",
   "execution_count": 73,
   "id": "338d6f8e",
   "metadata": {},
   "outputs": [],
   "source": [
    "from sklearn.model_selection import GridSearchCV\n",
    "from sklearn.model_selection import RandomizedSearchCV"
   ]
  },
  {
   "cell_type": "code",
   "execution_count": 74,
   "id": "4a62e047",
   "metadata": {},
   "outputs": [
    {
     "data": {
      "text/plain": [
       "{'ccp_alpha': 0.0,\n",
       " 'class_weight': None,\n",
       " 'criterion': 'gini',\n",
       " 'max_depth': 6,\n",
       " 'max_features': None,\n",
       " 'max_leaf_nodes': None,\n",
       " 'min_impurity_decrease': 0.0,\n",
       " 'min_samples_leaf': 1,\n",
       " 'min_samples_split': 2,\n",
       " 'min_weight_fraction_leaf': 0.0,\n",
       " 'random_state': None,\n",
       " 'splitter': 'best'}"
      ]
     },
     "execution_count": 74,
     "metadata": {},
     "output_type": "execute_result"
    }
   ],
   "source": [
    "# Revisar qué parámetros podemos optimizar\n",
    "dt_model.get_params()"
   ]
  },
  {
   "cell_type": "code",
   "execution_count": 75,
   "id": "51239e7b",
   "metadata": {},
   "outputs": [],
   "source": [
    "## No hemos tocado max_features. Tenemos 5. \n",
    "param_grid = {\n",
    "'max_depth':    [5, 6, 7, 8, 9, 10],\n",
    "'max_features': [3,4,5],\n",
    "'random_state': [1]}\n",
    "\n",
    "dt_model=DecisionTreeClassifier()"
   ]
  },
  {
   "cell_type": "code",
   "execution_count": 76,
   "id": "15de8eb0",
   "metadata": {},
   "outputs": [
    {
     "name": "stdout",
     "output_type": "stream",
     "text": [
      "Fitting 5 folds for each of 18 candidates, totalling 90 fits\n"
     ]
    },
    {
     "data": {
      "text/html": [
       "<style>#sk-container-id-2 {color: black;}#sk-container-id-2 pre{padding: 0;}#sk-container-id-2 div.sk-toggleable {background-color: white;}#sk-container-id-2 label.sk-toggleable__label {cursor: pointer;display: block;width: 100%;margin-bottom: 0;padding: 0.3em;box-sizing: border-box;text-align: center;}#sk-container-id-2 label.sk-toggleable__label-arrow:before {content: \"▸\";float: left;margin-right: 0.25em;color: #696969;}#sk-container-id-2 label.sk-toggleable__label-arrow:hover:before {color: black;}#sk-container-id-2 div.sk-estimator:hover label.sk-toggleable__label-arrow:before {color: black;}#sk-container-id-2 div.sk-toggleable__content {max-height: 0;max-width: 0;overflow: hidden;text-align: left;background-color: #f0f8ff;}#sk-container-id-2 div.sk-toggleable__content pre {margin: 0.2em;color: black;border-radius: 0.25em;background-color: #f0f8ff;}#sk-container-id-2 input.sk-toggleable__control:checked~div.sk-toggleable__content {max-height: 200px;max-width: 100%;overflow: auto;}#sk-container-id-2 input.sk-toggleable__control:checked~label.sk-toggleable__label-arrow:before {content: \"▾\";}#sk-container-id-2 div.sk-estimator input.sk-toggleable__control:checked~label.sk-toggleable__label {background-color: #d4ebff;}#sk-container-id-2 div.sk-label input.sk-toggleable__control:checked~label.sk-toggleable__label {background-color: #d4ebff;}#sk-container-id-2 input.sk-hidden--visually {border: 0;clip: rect(1px 1px 1px 1px);clip: rect(1px, 1px, 1px, 1px);height: 1px;margin: -1px;overflow: hidden;padding: 0;position: absolute;width: 1px;}#sk-container-id-2 div.sk-estimator {font-family: monospace;background-color: #f0f8ff;border: 1px dotted black;border-radius: 0.25em;box-sizing: border-box;margin-bottom: 0.5em;}#sk-container-id-2 div.sk-estimator:hover {background-color: #d4ebff;}#sk-container-id-2 div.sk-parallel-item::after {content: \"\";width: 100%;border-bottom: 1px solid gray;flex-grow: 1;}#sk-container-id-2 div.sk-label:hover label.sk-toggleable__label {background-color: #d4ebff;}#sk-container-id-2 div.sk-serial::before {content: \"\";position: absolute;border-left: 1px solid gray;box-sizing: border-box;top: 0;bottom: 0;left: 50%;z-index: 0;}#sk-container-id-2 div.sk-serial {display: flex;flex-direction: column;align-items: center;background-color: white;padding-right: 0.2em;padding-left: 0.2em;position: relative;}#sk-container-id-2 div.sk-item {position: relative;z-index: 1;}#sk-container-id-2 div.sk-parallel {display: flex;align-items: stretch;justify-content: center;background-color: white;position: relative;}#sk-container-id-2 div.sk-item::before, #sk-container-id-2 div.sk-parallel-item::before {content: \"\";position: absolute;border-left: 1px solid gray;box-sizing: border-box;top: 0;bottom: 0;left: 50%;z-index: -1;}#sk-container-id-2 div.sk-parallel-item {display: flex;flex-direction: column;z-index: 1;position: relative;background-color: white;}#sk-container-id-2 div.sk-parallel-item:first-child::after {align-self: flex-end;width: 50%;}#sk-container-id-2 div.sk-parallel-item:last-child::after {align-self: flex-start;width: 50%;}#sk-container-id-2 div.sk-parallel-item:only-child::after {width: 0;}#sk-container-id-2 div.sk-dashed-wrapped {border: 1px dashed gray;margin: 0 0.4em 0.5em 0.4em;box-sizing: border-box;padding-bottom: 0.4em;background-color: white;}#sk-container-id-2 div.sk-label label {font-family: monospace;font-weight: bold;display: inline-block;line-height: 1.2em;}#sk-container-id-2 div.sk-label-container {text-align: center;}#sk-container-id-2 div.sk-container {/* jupyter's `normalize.less` sets `[hidden] { display: none; }` but bootstrap.min.css set `[hidden] { display: none !important; }` so we also need the `!important` here to be able to override the default hidden behavior on the sphinx rendered scikit-learn.org. See: https://github.com/scikit-learn/scikit-learn/issues/21755 */display: inline-block !important;position: relative;}#sk-container-id-2 div.sk-text-repr-fallback {display: none;}</style><div id=\"sk-container-id-2\" class=\"sk-top-container\"><div class=\"sk-text-repr-fallback\"><pre>GridSearchCV(cv=5, estimator=DecisionTreeClassifier(), n_jobs=-1,\n",
       "             param_grid={&#x27;max_depth&#x27;: [5, 6, 7, 8, 9, 10],\n",
       "                         &#x27;max_features&#x27;: [3, 4, 5], &#x27;random_state&#x27;: [1]},\n",
       "             scoring=&#x27;accuracy&#x27;, verbose=1)</pre><b>In a Jupyter environment, please rerun this cell to show the HTML representation or trust the notebook. <br />On GitHub, the HTML representation is unable to render, please try loading this page with nbviewer.org.</b></div><div class=\"sk-container\" hidden><div class=\"sk-item sk-dashed-wrapped\"><div class=\"sk-label-container\"><div class=\"sk-label sk-toggleable\"><input class=\"sk-toggleable__control sk-hidden--visually\" id=\"sk-estimator-id-2\" type=\"checkbox\" ><label for=\"sk-estimator-id-2\" class=\"sk-toggleable__label sk-toggleable__label-arrow\">GridSearchCV</label><div class=\"sk-toggleable__content\"><pre>GridSearchCV(cv=5, estimator=DecisionTreeClassifier(), n_jobs=-1,\n",
       "             param_grid={&#x27;max_depth&#x27;: [5, 6, 7, 8, 9, 10],\n",
       "                         &#x27;max_features&#x27;: [3, 4, 5], &#x27;random_state&#x27;: [1]},\n",
       "             scoring=&#x27;accuracy&#x27;, verbose=1)</pre></div></div></div><div class=\"sk-parallel\"><div class=\"sk-parallel-item\"><div class=\"sk-item\"><div class=\"sk-label-container\"><div class=\"sk-label sk-toggleable\"><input class=\"sk-toggleable__control sk-hidden--visually\" id=\"sk-estimator-id-3\" type=\"checkbox\" ><label for=\"sk-estimator-id-3\" class=\"sk-toggleable__label sk-toggleable__label-arrow\">estimator: DecisionTreeClassifier</label><div class=\"sk-toggleable__content\"><pre>DecisionTreeClassifier()</pre></div></div></div><div class=\"sk-serial\"><div class=\"sk-item\"><div class=\"sk-estimator sk-toggleable\"><input class=\"sk-toggleable__control sk-hidden--visually\" id=\"sk-estimator-id-4\" type=\"checkbox\" ><label for=\"sk-estimator-id-4\" class=\"sk-toggleable__label sk-toggleable__label-arrow\">DecisionTreeClassifier</label><div class=\"sk-toggleable__content\"><pre>DecisionTreeClassifier()</pre></div></div></div></div></div></div></div></div></div></div>"
      ],
      "text/plain": [
       "GridSearchCV(cv=5, estimator=DecisionTreeClassifier(), n_jobs=-1,\n",
       "             param_grid={'max_depth': [5, 6, 7, 8, 9, 10],\n",
       "                         'max_features': [3, 4, 5], 'random_state': [1]},\n",
       "             scoring='accuracy', verbose=1)"
      ]
     },
     "execution_count": 76,
     "metadata": {},
     "output_type": "execute_result"
    }
   ],
   "source": [
    "# Gridsearch & fit\n",
    "gs = GridSearchCV(dt_model, param_grid, scoring='accuracy', n_jobs=-1,verbose=1, cv=5)\n",
    "gs.fit(X_train_1, y_train_1)"
   ]
  },
  {
   "cell_type": "code",
   "execution_count": 77,
   "id": "6dd1b179",
   "metadata": {},
   "outputs": [
    {
     "data": {
      "text/plain": [
       "{'max_depth': 5, 'max_features': 4, 'random_state': 1}"
      ]
     },
     "execution_count": 77,
     "metadata": {},
     "output_type": "execute_result"
    }
   ],
   "source": [
    "# best parameters\n",
    "gs.best_params_"
   ]
  },
  {
   "cell_type": "code",
   "execution_count": 78,
   "id": "7ac24cbb",
   "metadata": {},
   "outputs": [
    {
     "data": {
      "text/plain": [
       "0.7353097152792871"
      ]
     },
     "execution_count": 78,
     "metadata": {},
     "output_type": "execute_result"
    }
   ],
   "source": [
    "# best score\n",
    "gs.best_score_"
   ]
  },
  {
   "cell_type": "markdown",
   "id": "998bf9a4",
   "metadata": {},
   "source": [
    "Cuando estableces `n_jobs=-1`, instruyes al algoritmo para que utilice todos los núcleos de CPU disponibles en tu máquina. Esto puede acelerar significativamente el proceso de búsqueda por rejilla, especialmente cuando hay un gran número de combinaciones de hiperparámetros para probar, ya que las tareas (entrenar y evaluar un modelo con un conjunto específico de hiperparámetros) pueden ejecutarse de manera concurrente en diferentes núcleos."
   ]
  },
  {
   "cell_type": "code",
   "execution_count": 79,
   "id": "ae4d8710",
   "metadata": {},
   "outputs": [
    {
     "data": {
      "text/plain": [
       "{'cv': 5,\n",
       " 'error_score': nan,\n",
       " 'estimator__ccp_alpha': 0.0,\n",
       " 'estimator__class_weight': None,\n",
       " 'estimator__criterion': 'gini',\n",
       " 'estimator__max_depth': None,\n",
       " 'estimator__max_features': None,\n",
       " 'estimator__max_leaf_nodes': None,\n",
       " 'estimator__min_impurity_decrease': 0.0,\n",
       " 'estimator__min_samples_leaf': 1,\n",
       " 'estimator__min_samples_split': 2,\n",
       " 'estimator__min_weight_fraction_leaf': 0.0,\n",
       " 'estimator__random_state': None,\n",
       " 'estimator__splitter': 'best',\n",
       " 'estimator': DecisionTreeClassifier(),\n",
       " 'n_jobs': -1,\n",
       " 'param_grid': {'max_depth': [5, 6, 7, 8, 9, 10],\n",
       "  'max_features': [3, 4, 5],\n",
       "  'random_state': [1]},\n",
       " 'pre_dispatch': '2*n_jobs',\n",
       " 'refit': True,\n",
       " 'return_train_score': False,\n",
       " 'scoring': 'accuracy',\n",
       " 'verbose': 1}"
      ]
     },
     "execution_count": 79,
     "metadata": {},
     "output_type": "execute_result"
    }
   ],
   "source": [
    "gs.get_params()"
   ]
  },
  {
   "cell_type": "markdown",
   "id": "b551f851",
   "metadata": {},
   "source": [
    "Cuando usas GridSearchCV con la configuración predeterminada, realiza una validación cruzada k-fold en los datos de entrenamiento proporcionados. Para cada combinación de hiperparámetros, los datos de entrenamiento se dividen en k subconjuntos (o \"folds\"). El modelo se entrena en k-1 de estos folds y se valida en el fold restante. Este proceso se repite k veces de modo que cada fold sirve como conjunto de validación exactamente una vez. El atributo best_score_ proporciona la media de las puntuaciones de \"accuracy\" de validación cruzada para la combinación de hiperparámetros con el mejor rendimiento."
   ]
  },
  {
   "cell_type": "code",
   "execution_count": 80,
   "id": "6cd762a0",
   "metadata": {},
   "outputs": [
    {
     "name": "stdout",
     "output_type": "stream",
     "text": [
      "El accuracy del train set: 0.740\n",
      "El accuracy del test set: 0.755\n"
     ]
    }
   ],
   "source": [
    "dt_model = DecisionTreeClassifier(max_depth=5, random_state=1, max_features=4)\n",
    "dt_model.fit(X_train_1,y_train_1)\n",
    "    \n",
    "#Sacando el score\n",
    "train_prediction = dt_model.predict(X_train_1)\n",
    "test_prediction = dt_model.predict(X_test_1)\n",
    "accuracy_train = accuracy_score(train_prediction, y_train_1)\n",
    "accuracy_test = accuracy_score(test_prediction, y_test_1)\n",
    "\n",
    "print(f\"El accuracy del train set: {accuracy_train:.3f}\")\n",
    "print(f\"El accuracy del test set: {accuracy_test:.3f}\")"
   ]
  },
  {
   "cell_type": "code",
   "execution_count": 81,
   "id": "feb4c62b",
   "metadata": {},
   "outputs": [
    {
     "data": {
      "image/png": "[encoded data removed]",
      "text/plain": [
       "<Figure size 640x480 with 2 Axes>"
      ]
     },
     "metadata": {},
     "output_type": "display_data"
    }
   ],
   "source": [
    "# generando la matriz de confusion \n",
    "cf_matrix = confusion_matrix(y_test_1,test_prediction )\n",
    "\n",
    "# presentando la matriz\n",
    "ConfusionMatrixDisplay(cf_matrix).plot(cmap='Greens')\n",
    "plt.show()"
   ]
  },
  {
   "cell_type": "markdown",
   "id": "e5093781",
   "metadata": {},
   "source": [
    "Vemos que esta validación no ha cambiado los resultados. ¿Cuál es el problema? Tenemos muy pocas variables explicativas, entonces la variación de `max_features` y `max_depth` no tiene mucho impacto. Vamos a ver cómo cambia esto durante la práctica calificada. Al momento, no hemos encontrado un modelo que nos sirva adecuadamente.  "
   ]
  },
  {
   "cell_type": "markdown",
   "id": "30091875",
   "metadata": {},
   "source": [
    "## Añadiendo más variables al dataset"
   ]
  },
  {
   "cell_type": "markdown",
   "id": "02d293e1",
   "metadata": {},
   "source": [
    "### El dataset original"
   ]
  },
  {
   "cell_type": "code",
   "execution_count": 82,
   "id": "c085caf7",
   "metadata": {},
   "outputs": [],
   "source": [
    "df=pd.read_csv('fintech.csv', sep=\";\")"
   ]
  },
  {
   "cell_type": "code",
   "execution_count": 83,
   "id": "e0fb8f52",
   "metadata": {},
   "outputs": [
    {
     "name": "stdout",
     "output_type": "stream",
     "text": [
      "<class 'pandas.core.frame.DataFrame'>\n",
      "RangeIndex: 824 entries, 0 to 823\n",
      "Data columns (total 8 columns):\n",
      " #   Column            Non-Null Count  Dtype \n",
      "---  ------            --------------  ----- \n",
      " 0   score_1           824 non-null    object\n",
      " 1   riesgo_score1     824 non-null    int64 \n",
      " 2   score_2           824 non-null    object\n",
      " 3   riesgo_score2     824 non-null    int64 \n",
      " 4   interaccion_1     824 non-null    int64 \n",
      " 5   interaccion_2     824 non-null    int64 \n",
      " 6   monto             824 non-null    int64 \n",
      " 7   mala_transaccion  824 non-null    int64 \n",
      "dtypes: int64(6), object(2)\n",
      "memory usage: 51.6+ KB\n"
     ]
    }
   ],
   "source": [
    "df.info()"
   ]
  },
  {
   "cell_type": "code",
   "execution_count": 84,
   "id": "605ddf27",
   "metadata": {},
   "outputs": [
    {
     "data": {
      "text/plain": [
       "array(['excelente', 'bueno', 'medio', 'nd', 'malo'], dtype=object)"
      ]
     },
     "execution_count": 84,
     "metadata": {},
     "output_type": "execute_result"
    }
   ],
   "source": [
    "df['score_1'].unique()"
   ]
  },
  {
   "cell_type": "code",
   "execution_count": 85,
   "id": "583c3cc0",
   "metadata": {},
   "outputs": [
    {
     "data": {
      "text/plain": [
       "array(['medio', 'excelente', 'malo', 'bueno', 'nodata'], dtype=object)"
      ]
     },
     "execution_count": 85,
     "metadata": {},
     "output_type": "execute_result"
    }
   ],
   "source": [
    "df['score_2'].unique()"
   ]
  },
  {
   "cell_type": "markdown",
   "id": "335998f5",
   "metadata": {},
   "source": [
    "Un primer arreglo es cambiar 'nodata' por 'nd' para que los scores categóricos sean iguales. "
   ]
  },
  {
   "cell_type": "code",
   "execution_count": 86,
   "id": "b0862aa5",
   "metadata": {},
   "outputs": [],
   "source": [
    "df.loc[df['score_2'] == 'nodata', 'score_2'] = 'nd'"
   ]
  },
  {
   "cell_type": "code",
   "execution_count": 87,
   "id": "45e716e1",
   "metadata": {},
   "outputs": [
    {
     "data": {
      "text/plain": [
       "array(['medio', 'excelente', 'malo', 'bueno', 'nd'], dtype=object)"
      ]
     },
     "execution_count": 87,
     "metadata": {},
     "output_type": "execute_result"
    }
   ],
   "source": [
    "df['score_2'].unique()"
   ]
  },
  {
   "cell_type": "code",
   "execution_count": 88,
   "id": "bd5cc4ce",
   "metadata": {},
   "outputs": [
    {
     "data": {
      "text/html": [
       "<div>\n",
       "<style scoped>\n",
       "    .dataframe tbody tr th:only-of-type {\n",
       "        vertical-align: middle;\n",
       "    }\n",
       "\n",
       "    .dataframe tbody tr th {\n",
       "        vertical-align: top;\n",
       "    }\n",
       "\n",
       "    .dataframe thead th {\n",
       "        text-align: right;\n",
       "    }\n",
       "</style>\n",
       "<table border=\"1\" class=\"dataframe\">\n",
       "  <thead>\n",
       "    <tr style=\"text-align: right;\">\n",
       "      <th>score_2</th>\n",
       "      <th>bueno</th>\n",
       "      <th>excelente</th>\n",
       "      <th>malo</th>\n",
       "      <th>medio</th>\n",
       "      <th>nd</th>\n",
       "    </tr>\n",
       "    <tr>\n",
       "      <th>score_1</th>\n",
       "      <th></th>\n",
       "      <th></th>\n",
       "      <th></th>\n",
       "      <th></th>\n",
       "      <th></th>\n",
       "    </tr>\n",
       "  </thead>\n",
       "  <tbody>\n",
       "    <tr>\n",
       "      <th>bueno</th>\n",
       "      <td>106</td>\n",
       "      <td>77</td>\n",
       "      <td>19</td>\n",
       "      <td>20</td>\n",
       "      <td>1</td>\n",
       "    </tr>\n",
       "    <tr>\n",
       "      <th>excelente</th>\n",
       "      <td>227</td>\n",
       "      <td>147</td>\n",
       "      <td>24</td>\n",
       "      <td>74</td>\n",
       "      <td>3</td>\n",
       "    </tr>\n",
       "    <tr>\n",
       "      <th>malo</th>\n",
       "      <td>17</td>\n",
       "      <td>2</td>\n",
       "      <td>1</td>\n",
       "      <td>4</td>\n",
       "      <td>0</td>\n",
       "    </tr>\n",
       "    <tr>\n",
       "      <th>medio</th>\n",
       "      <td>31</td>\n",
       "      <td>17</td>\n",
       "      <td>7</td>\n",
       "      <td>6</td>\n",
       "      <td>0</td>\n",
       "    </tr>\n",
       "    <tr>\n",
       "      <th>nd</th>\n",
       "      <td>14</td>\n",
       "      <td>2</td>\n",
       "      <td>9</td>\n",
       "      <td>15</td>\n",
       "      <td>1</td>\n",
       "    </tr>\n",
       "  </tbody>\n",
       "</table>\n",
       "</div>"
      ],
      "text/plain": [
       "score_2    bueno  excelente  malo  medio  nd\n",
       "score_1                                     \n",
       "bueno        106         77    19     20   1\n",
       "excelente    227        147    24     74   3\n",
       "malo          17          2     1      4   0\n",
       "medio         31         17     7      6   0\n",
       "nd            14          2     9     15   1"
      ]
     },
     "execution_count": 88,
     "metadata": {},
     "output_type": "execute_result"
    }
   ],
   "source": [
    "pd.crosstab(df.score_1, df.score_2)"
   ]
  },
  {
   "cell_type": "markdown",
   "id": "1e2f766b",
   "metadata": {},
   "source": [
    "Las combinaciones de excelente y bueno constituyen la gran mayoría de observaciones. "
   ]
  },
  {
   "cell_type": "code",
   "execution_count": 89,
   "id": "e6e58928",
   "metadata": {},
   "outputs": [
    {
     "data": {
      "text/plain": [
       "0.6759708737864077"
      ]
     },
     "execution_count": 89,
     "metadata": {},
     "output_type": "execute_result"
    }
   ],
   "source": [
    "(106+77+227+147)/824"
   ]
  },
  {
   "cell_type": "code",
   "execution_count": 90,
   "id": "c2b8eb8c",
   "metadata": {},
   "outputs": [
    {
     "data": {
      "text/html": [
       "<div>\n",
       "<style scoped>\n",
       "    .dataframe tbody tr th:only-of-type {\n",
       "        vertical-align: middle;\n",
       "    }\n",
       "\n",
       "    .dataframe tbody tr th {\n",
       "        vertical-align: top;\n",
       "    }\n",
       "\n",
       "    .dataframe thead th {\n",
       "        text-align: right;\n",
       "    }\n",
       "</style>\n",
       "<table border=\"1\" class=\"dataframe\">\n",
       "  <thead>\n",
       "    <tr style=\"text-align: right;\">\n",
       "      <th>mala_transaccion</th>\n",
       "      <th>0</th>\n",
       "      <th>1</th>\n",
       "    </tr>\n",
       "    <tr>\n",
       "      <th>score_1</th>\n",
       "      <th></th>\n",
       "      <th></th>\n",
       "    </tr>\n",
       "  </thead>\n",
       "  <tbody>\n",
       "    <tr>\n",
       "      <th>bueno</th>\n",
       "      <td>165</td>\n",
       "      <td>58</td>\n",
       "    </tr>\n",
       "    <tr>\n",
       "      <th>excelente</th>\n",
       "      <td>433</td>\n",
       "      <td>42</td>\n",
       "    </tr>\n",
       "    <tr>\n",
       "      <th>malo</th>\n",
       "      <td>13</td>\n",
       "      <td>11</td>\n",
       "    </tr>\n",
       "    <tr>\n",
       "      <th>medio</th>\n",
       "      <td>38</td>\n",
       "      <td>23</td>\n",
       "    </tr>\n",
       "    <tr>\n",
       "      <th>nd</th>\n",
       "      <td>22</td>\n",
       "      <td>19</td>\n",
       "    </tr>\n",
       "  </tbody>\n",
       "</table>\n",
       "</div>"
      ],
      "text/plain": [
       "mala_transaccion    0   1\n",
       "score_1                  \n",
       "bueno             165  58\n",
       "excelente         433  42\n",
       "malo               13  11\n",
       "medio              38  23\n",
       "nd                 22  19"
      ]
     },
     "execution_count": 90,
     "metadata": {},
     "output_type": "execute_result"
    }
   ],
   "source": [
    "#Mirando el score 1 más de cerca\n",
    "pd.crosstab(df.score_1, df.mala_transaccion)"
   ]
  },
  {
   "cell_type": "markdown",
   "id": "9ba9c48b",
   "metadata": {},
   "source": [
    "Vemos que hay malas transacciones aún en excelente y bueno, pero  en las otras tres categorias, efectivamente la mayoría (o cerca de la mayoría son malas). "
   ]
  },
  {
   "cell_type": "code",
   "execution_count": 91,
   "id": "9d95885e",
   "metadata": {},
   "outputs": [
    {
     "data": {
      "text/html": [
       "<div>\n",
       "<style scoped>\n",
       "    .dataframe tbody tr th:only-of-type {\n",
       "        vertical-align: middle;\n",
       "    }\n",
       "\n",
       "    .dataframe tbody tr th {\n",
       "        vertical-align: top;\n",
       "    }\n",
       "\n",
       "    .dataframe thead th {\n",
       "        text-align: right;\n",
       "    }\n",
       "</style>\n",
       "<table border=\"1\" class=\"dataframe\">\n",
       "  <thead>\n",
       "    <tr style=\"text-align: right;\">\n",
       "      <th>mala_transaccion</th>\n",
       "      <th>0</th>\n",
       "      <th>1</th>\n",
       "    </tr>\n",
       "    <tr>\n",
       "      <th>score_2</th>\n",
       "      <th></th>\n",
       "      <th></th>\n",
       "    </tr>\n",
       "  </thead>\n",
       "  <tbody>\n",
       "    <tr>\n",
       "      <th>bueno</th>\n",
       "      <td>304</td>\n",
       "      <td>91</td>\n",
       "    </tr>\n",
       "    <tr>\n",
       "      <th>excelente</th>\n",
       "      <td>218</td>\n",
       "      <td>27</td>\n",
       "    </tr>\n",
       "    <tr>\n",
       "      <th>malo</th>\n",
       "      <td>42</td>\n",
       "      <td>18</td>\n",
       "    </tr>\n",
       "    <tr>\n",
       "      <th>medio</th>\n",
       "      <td>102</td>\n",
       "      <td>17</td>\n",
       "    </tr>\n",
       "    <tr>\n",
       "      <th>nd</th>\n",
       "      <td>5</td>\n",
       "      <td>0</td>\n",
       "    </tr>\n",
       "  </tbody>\n",
       "</table>\n",
       "</div>"
      ],
      "text/plain": [
       "mala_transaccion    0   1\n",
       "score_2                  \n",
       "bueno             304  91\n",
       "excelente         218  27\n",
       "malo               42  18\n",
       "medio             102  17\n",
       "nd                  5   0"
      ]
     },
     "execution_count": 91,
     "metadata": {},
     "output_type": "execute_result"
    }
   ],
   "source": [
    "#Mirando el score 2 más de cerca\n",
    "pd.crosstab(df.score_2, df.mala_transaccion)"
   ]
  },
  {
   "cell_type": "markdown",
   "id": "f53625cc",
   "metadata": {},
   "source": [
    "Algo parecido, se ve con el score 2. Entonces, pensemos en una manera de generar un score cuantitativo para usarlo dentro del modelo. Asignar los siguientes scores:  \n",
    "- excelente: 1\n",
    "- bueno: 2\n",
    "- medio: 3\n",
    "- malo:4 \n",
    "- nd: 5\n",
    "\n",
    "Crearemos un término de interacción `interaccion_suma` que sume ambos scores. "
   ]
  },
  {
   "cell_type": "code",
   "execution_count": 92,
   "id": "744a96dd",
   "metadata": {},
   "outputs": [],
   "source": [
    "#Creando el puntaje 1 \n",
    "df.loc[df['score_1'] == 'excelente', 'puntaje_1'] = 1\n",
    "df.loc[df['score_1'] == 'bueno', 'puntaje_1'] = 2\n",
    "df.loc[df['score_1'] == 'medio', 'puntaje_1'] = 3\n",
    "df.loc[df['score_1'] == 'malo', 'puntaje_1'] = 4\n",
    "df.loc[df['score_1'] == 'nd', 'puntaje_1'] = 5"
   ]
  },
  {
   "cell_type": "code",
   "execution_count": 93,
   "id": "2e5c851f",
   "metadata": {},
   "outputs": [],
   "source": [
    "#Creando el puntaje 2 \n",
    "df.loc[df['score_2'] == 'excelente', 'puntaje_2'] = 1\n",
    "df.loc[df['score_2'] == 'bueno', 'puntaje_2'] = 2\n",
    "df.loc[df['score_2'] == 'medio', 'puntaje_2'] = 3\n",
    "df.loc[df['score_2'] == 'malo', 'puntaje_2'] = 4\n",
    "df.loc[df['score_2'] == 'nd', 'puntaje_2'] = 5"
   ]
  },
  {
   "cell_type": "code",
   "execution_count": 94,
   "id": "df29cd0b",
   "metadata": {},
   "outputs": [],
   "source": [
    "df['interaccion_suma']=df['puntaje_1'] + df['puntaje_2']"
   ]
  },
  {
   "cell_type": "code",
   "execution_count": 95,
   "id": "5cf55d50",
   "metadata": {},
   "outputs": [
    {
     "data": {
      "text/plain": [
       "array([ 4.,  2.,  3.,  5.,  7.,  6.,  8.,  9., 10.])"
      ]
     },
     "execution_count": 95,
     "metadata": {},
     "output_type": "execute_result"
    }
   ],
   "source": [
    "df['interaccion_suma'].unique()"
   ]
  },
  {
   "cell_type": "code",
   "execution_count": 96,
   "id": "4ac77ef8",
   "metadata": {},
   "outputs": [
    {
     "data": {
      "text/html": [
       "<div>\n",
       "<style scoped>\n",
       "    .dataframe tbody tr th:only-of-type {\n",
       "        vertical-align: middle;\n",
       "    }\n",
       "\n",
       "    .dataframe tbody tr th {\n",
       "        vertical-align: top;\n",
       "    }\n",
       "\n",
       "    .dataframe thead th {\n",
       "        text-align: right;\n",
       "    }\n",
       "</style>\n",
       "<table border=\"1\" class=\"dataframe\">\n",
       "  <thead>\n",
       "    <tr style=\"text-align: right;\">\n",
       "      <th>mala_transaccion</th>\n",
       "      <th>0</th>\n",
       "      <th>1</th>\n",
       "    </tr>\n",
       "    <tr>\n",
       "      <th>interaccion_suma</th>\n",
       "      <th></th>\n",
       "      <th></th>\n",
       "    </tr>\n",
       "  </thead>\n",
       "  <tbody>\n",
       "    <tr>\n",
       "      <th>2.0</th>\n",
       "      <td>137</td>\n",
       "      <td>10</td>\n",
       "    </tr>\n",
       "    <tr>\n",
       "      <th>3.0</th>\n",
       "      <td>266</td>\n",
       "      <td>38</td>\n",
       "    </tr>\n",
       "    <tr>\n",
       "      <th>4.0</th>\n",
       "      <td>155</td>\n",
       "      <td>42</td>\n",
       "    </tr>\n",
       "    <tr>\n",
       "      <th>5.0</th>\n",
       "      <td>55</td>\n",
       "      <td>22</td>\n",
       "    </tr>\n",
       "    <tr>\n",
       "      <th>6.0</th>\n",
       "      <td>30</td>\n",
       "      <td>17</td>\n",
       "    </tr>\n",
       "    <tr>\n",
       "      <th>7.0</th>\n",
       "      <td>13</td>\n",
       "      <td>13</td>\n",
       "    </tr>\n",
       "    <tr>\n",
       "      <th>8.0</th>\n",
       "      <td>10</td>\n",
       "      <td>6</td>\n",
       "    </tr>\n",
       "    <tr>\n",
       "      <th>9.0</th>\n",
       "      <td>4</td>\n",
       "      <td>5</td>\n",
       "    </tr>\n",
       "    <tr>\n",
       "      <th>10.0</th>\n",
       "      <td>1</td>\n",
       "      <td>0</td>\n",
       "    </tr>\n",
       "  </tbody>\n",
       "</table>\n",
       "</div>"
      ],
      "text/plain": [
       "mala_transaccion    0   1\n",
       "interaccion_suma         \n",
       "2.0               137  10\n",
       "3.0               266  38\n",
       "4.0               155  42\n",
       "5.0                55  22\n",
       "6.0                30  17\n",
       "7.0                13  13\n",
       "8.0                10   6\n",
       "9.0                 4   5\n",
       "10.0                1   0"
      ]
     },
     "execution_count": 96,
     "metadata": {},
     "output_type": "execute_result"
    }
   ],
   "source": [
    "## Veamos si tienen algo que ver con las malas transacciones\n",
    "pd.crosstab(df.interaccion_suma, df.mala_transaccion)"
   ]
  },
  {
   "cell_type": "markdown",
   "id": "e3bc84c3",
   "metadata": {},
   "source": [
    "El porcentaje de transacciones malas aumenta con el numero de interaccion suma. "
   ]
  },
  {
   "cell_type": "code",
   "execution_count": 97,
   "id": "f41ca290",
   "metadata": {},
   "outputs": [
    {
     "name": "stdout",
     "output_type": "stream",
     "text": [
      "<class 'pandas.core.frame.DataFrame'>\n",
      "RangeIndex: 824 entries, 0 to 823\n",
      "Data columns (total 11 columns):\n",
      " #   Column            Non-Null Count  Dtype  \n",
      "---  ------            --------------  -----  \n",
      " 0   score_1           824 non-null    object \n",
      " 1   riesgo_score1     824 non-null    int64  \n",
      " 2   score_2           824 non-null    object \n",
      " 3   riesgo_score2     824 non-null    int64  \n",
      " 4   interaccion_1     824 non-null    int64  \n",
      " 5   interaccion_2     824 non-null    int64  \n",
      " 6   monto             824 non-null    int64  \n",
      " 7   mala_transaccion  824 non-null    int64  \n",
      " 8   puntaje_1         824 non-null    float64\n",
      " 9   puntaje_2         824 non-null    float64\n",
      " 10  interaccion_suma  824 non-null    float64\n",
      "dtypes: float64(3), int64(6), object(2)\n",
      "memory usage: 70.9+ KB\n"
     ]
    }
   ],
   "source": [
    "df.info()"
   ]
  },
  {
   "cell_type": "code",
   "execution_count": 98,
   "id": "9bcd2caf",
   "metadata": {},
   "outputs": [
    {
     "data": {
      "text/html": [
       "<div>\n",
       "<style scoped>\n",
       "    .dataframe tbody tr th:only-of-type {\n",
       "        vertical-align: middle;\n",
       "    }\n",
       "\n",
       "    .dataframe tbody tr th {\n",
       "        vertical-align: top;\n",
       "    }\n",
       "\n",
       "    .dataframe thead th {\n",
       "        text-align: right;\n",
       "    }\n",
       "</style>\n",
       "<table border=\"1\" class=\"dataframe\">\n",
       "  <thead>\n",
       "    <tr style=\"text-align: right;\">\n",
       "      <th></th>\n",
       "      <th>score_1</th>\n",
       "      <th>riesgo_score1</th>\n",
       "      <th>score_2</th>\n",
       "      <th>riesgo_score2</th>\n",
       "      <th>interaccion_1</th>\n",
       "      <th>interaccion_2</th>\n",
       "      <th>monto</th>\n",
       "      <th>mala_transaccion</th>\n",
       "      <th>puntaje_1</th>\n",
       "      <th>puntaje_2</th>\n",
       "      <th>interaccion_suma</th>\n",
       "    </tr>\n",
       "  </thead>\n",
       "  <tbody>\n",
       "    <tr>\n",
       "      <th>0</th>\n",
       "      <td>excelente</td>\n",
       "      <td>0</td>\n",
       "      <td>medio</td>\n",
       "      <td>1</td>\n",
       "      <td>0</td>\n",
       "      <td>1</td>\n",
       "      <td>79</td>\n",
       "      <td>0</td>\n",
       "      <td>1.0</td>\n",
       "      <td>3.0</td>\n",
       "      <td>4.0</td>\n",
       "    </tr>\n",
       "    <tr>\n",
       "      <th>1</th>\n",
       "      <td>excelente</td>\n",
       "      <td>0</td>\n",
       "      <td>excelente</td>\n",
       "      <td>0</td>\n",
       "      <td>0</td>\n",
       "      <td>0</td>\n",
       "      <td>99</td>\n",
       "      <td>0</td>\n",
       "      <td>1.0</td>\n",
       "      <td>1.0</td>\n",
       "      <td>2.0</td>\n",
       "    </tr>\n",
       "    <tr>\n",
       "      <th>2</th>\n",
       "      <td>excelente</td>\n",
       "      <td>0</td>\n",
       "      <td>medio</td>\n",
       "      <td>1</td>\n",
       "      <td>0</td>\n",
       "      <td>1</td>\n",
       "      <td>50</td>\n",
       "      <td>0</td>\n",
       "      <td>1.0</td>\n",
       "      <td>3.0</td>\n",
       "      <td>4.0</td>\n",
       "    </tr>\n",
       "    <tr>\n",
       "      <th>3</th>\n",
       "      <td>excelente</td>\n",
       "      <td>0</td>\n",
       "      <td>excelente</td>\n",
       "      <td>0</td>\n",
       "      <td>0</td>\n",
       "      <td>0</td>\n",
       "      <td>79</td>\n",
       "      <td>0</td>\n",
       "      <td>1.0</td>\n",
       "      <td>1.0</td>\n",
       "      <td>2.0</td>\n",
       "    </tr>\n",
       "    <tr>\n",
       "      <th>4</th>\n",
       "      <td>bueno</td>\n",
       "      <td>0</td>\n",
       "      <td>excelente</td>\n",
       "      <td>0</td>\n",
       "      <td>0</td>\n",
       "      <td>0</td>\n",
       "      <td>99</td>\n",
       "      <td>0</td>\n",
       "      <td>2.0</td>\n",
       "      <td>1.0</td>\n",
       "      <td>3.0</td>\n",
       "    </tr>\n",
       "  </tbody>\n",
       "</table>\n",
       "</div>"
      ],
      "text/plain": [
       "     score_1  riesgo_score1    score_2  riesgo_score2  interaccion_1  \\\n",
       "0  excelente              0      medio              1              0   \n",
       "1  excelente              0  excelente              0              0   \n",
       "2  excelente              0      medio              1              0   \n",
       "3  excelente              0  excelente              0              0   \n",
       "4      bueno              0  excelente              0              0   \n",
       "\n",
       "   interaccion_2  monto  mala_transaccion  puntaje_1  puntaje_2  \\\n",
       "0              1     79                 0        1.0        3.0   \n",
       "1              0     99                 0        1.0        1.0   \n",
       "2              1     50                 0        1.0        3.0   \n",
       "3              0     79                 0        1.0        1.0   \n",
       "4              0     99                 0        2.0        1.0   \n",
       "\n",
       "   interaccion_suma  \n",
       "0               4.0  \n",
       "1               2.0  \n",
       "2               4.0  \n",
       "3               2.0  \n",
       "4               3.0  "
      ]
     },
     "execution_count": 98,
     "metadata": {},
     "output_type": "execute_result"
    }
   ],
   "source": [
    "df.head()"
   ]
  },
  {
   "cell_type": "markdown",
   "id": "8e44a607",
   "metadata": {},
   "source": [
    "## Práctica calificada 2"
   ]
  },
  {
   "cell_type": "markdown",
   "id": "66bdf830",
   "metadata": {},
   "source": [
    "Luego de algunas transformaciones externas, incluyo algunas variables más explicativas. Utilizar data_cal2024 para desarrollar la práctica calificada. "
   ]
  },
  {
   "cell_type": "code",
   "execution_count": 99,
   "id": "0d8d1db9",
   "metadata": {},
   "outputs": [],
   "source": [
    "df1=pd.read_csv('data_cal2024.csv', sep=\";\")"
   ]
  },
  {
   "cell_type": "code",
   "execution_count": 100,
   "id": "f4edab29",
   "metadata": {},
   "outputs": [
    {
     "name": "stdout",
     "output_type": "stream",
     "text": [
      "<class 'pandas.core.frame.DataFrame'>\n",
      "RangeIndex: 824 entries, 0 to 823\n",
      "Data columns (total 14 columns):\n",
      " #   Column                   Non-Null Count  Dtype \n",
      "---  ------                   --------------  ----- \n",
      " 0   score_1                  824 non-null    object\n",
      " 1   score_2                  824 non-null    object\n",
      " 2   riesgo_score1            824 non-null    int64 \n",
      " 3   riesgo_score2            824 non-null    int64 \n",
      " 4   interaccion_1            824 non-null    int64 \n",
      " 5   interaccion_2            824 non-null    int64 \n",
      " 6   monto                    824 non-null    int64 \n",
      " 7   mala_transaccion         824 non-null    int64 \n",
      " 8   puntaje_1                824 non-null    int64 \n",
      " 9   puntaje_2                824 non-null    int64 \n",
      " 10  interaccion_suma         824 non-null    int64 \n",
      " 11  estado                   824 non-null    object\n",
      " 12  cod_postal               824 non-null    int64 \n",
      " 13  ingreso_promedio_estado  824 non-null    int64 \n",
      "dtypes: int64(11), object(3)\n",
      "memory usage: 90.2+ KB\n"
     ]
    }
   ],
   "source": [
    "df1.info()"
   ]
  },
  {
   "cell_type": "code",
   "execution_count": 101,
   "id": "0f6819e9",
   "metadata": {},
   "outputs": [
    {
     "data": {
      "text/html": [
       "<div>\n",
       "<style scoped>\n",
       "    .dataframe tbody tr th:only-of-type {\n",
       "        vertical-align: middle;\n",
       "    }\n",
       "\n",
       "    .dataframe tbody tr th {\n",
       "        vertical-align: top;\n",
       "    }\n",
       "\n",
       "    .dataframe thead th {\n",
       "        text-align: right;\n",
       "    }\n",
       "</style>\n",
       "<table border=\"1\" class=\"dataframe\">\n",
       "  <thead>\n",
       "    <tr style=\"text-align: right;\">\n",
       "      <th></th>\n",
       "      <th>score_1</th>\n",
       "      <th>score_2</th>\n",
       "      <th>riesgo_score1</th>\n",
       "      <th>riesgo_score2</th>\n",
       "      <th>interaccion_1</th>\n",
       "      <th>interaccion_2</th>\n",
       "      <th>monto</th>\n",
       "      <th>mala_transaccion</th>\n",
       "      <th>puntaje_1</th>\n",
       "      <th>puntaje_2</th>\n",
       "      <th>interaccion_suma</th>\n",
       "      <th>estado</th>\n",
       "      <th>cod_postal</th>\n",
       "      <th>ingreso_promedio_estado</th>\n",
       "    </tr>\n",
       "  </thead>\n",
       "  <tbody>\n",
       "    <tr>\n",
       "      <th>0</th>\n",
       "      <td>nd</td>\n",
       "      <td>nd</td>\n",
       "      <td>1</td>\n",
       "      <td>0</td>\n",
       "      <td>0</td>\n",
       "      <td>1</td>\n",
       "      <td>50</td>\n",
       "      <td>0</td>\n",
       "      <td>5</td>\n",
       "      <td>5</td>\n",
       "      <td>10</td>\n",
       "      <td>NC</td>\n",
       "      <td>28525</td>\n",
       "      <td>53687</td>\n",
       "    </tr>\n",
       "    <tr>\n",
       "      <th>1</th>\n",
       "      <td>nd</td>\n",
       "      <td>malo</td>\n",
       "      <td>1</td>\n",
       "      <td>1</td>\n",
       "      <td>1</td>\n",
       "      <td>1</td>\n",
       "      <td>59</td>\n",
       "      <td>1</td>\n",
       "      <td>5</td>\n",
       "      <td>4</td>\n",
       "      <td>9</td>\n",
       "      <td>IL</td>\n",
       "      <td>60473</td>\n",
       "      <td>61456</td>\n",
       "    </tr>\n",
       "    <tr>\n",
       "      <th>2</th>\n",
       "      <td>nd</td>\n",
       "      <td>malo</td>\n",
       "      <td>1</td>\n",
       "      <td>1</td>\n",
       "      <td>1</td>\n",
       "      <td>1</td>\n",
       "      <td>75</td>\n",
       "      <td>0</td>\n",
       "      <td>5</td>\n",
       "      <td>4</td>\n",
       "      <td>9</td>\n",
       "      <td>SC</td>\n",
       "      <td>29642</td>\n",
       "      <td>52348</td>\n",
       "    </tr>\n",
       "    <tr>\n",
       "      <th>3</th>\n",
       "      <td>nd</td>\n",
       "      <td>malo</td>\n",
       "      <td>1</td>\n",
       "      <td>1</td>\n",
       "      <td>1</td>\n",
       "      <td>1</td>\n",
       "      <td>75</td>\n",
       "      <td>0</td>\n",
       "      <td>5</td>\n",
       "      <td>4</td>\n",
       "      <td>9</td>\n",
       "      <td>CA</td>\n",
       "      <td>90220</td>\n",
       "      <td>65895</td>\n",
       "    </tr>\n",
       "    <tr>\n",
       "      <th>4</th>\n",
       "      <td>nd</td>\n",
       "      <td>malo</td>\n",
       "      <td>1</td>\n",
       "      <td>1</td>\n",
       "      <td>1</td>\n",
       "      <td>1</td>\n",
       "      <td>75</td>\n",
       "      <td>1</td>\n",
       "      <td>5</td>\n",
       "      <td>4</td>\n",
       "      <td>9</td>\n",
       "      <td>NC</td>\n",
       "      <td>28052</td>\n",
       "      <td>53687</td>\n",
       "    </tr>\n",
       "  </tbody>\n",
       "</table>\n",
       "</div>"
      ],
      "text/plain": [
       "  score_1 score_2  riesgo_score1  riesgo_score2  interaccion_1  interaccion_2  \\\n",
       "0      nd      nd              1              0              0              1   \n",
       "1      nd    malo              1              1              1              1   \n",
       "2      nd    malo              1              1              1              1   \n",
       "3      nd    malo              1              1              1              1   \n",
       "4      nd    malo              1              1              1              1   \n",
       "\n",
       "   monto  mala_transaccion  puntaje_1  puntaje_2  interaccion_suma estado  \\\n",
       "0     50                 0          5          5                10     NC   \n",
       "1     59                 1          5          4                 9     IL   \n",
       "2     75                 0          5          4                 9     SC   \n",
       "3     75                 0          5          4                 9     CA   \n",
       "4     75                 1          5          4                 9     NC   \n",
       "\n",
       "   cod_postal  ingreso_promedio_estado  \n",
       "0       28525                    53687  \n",
       "1       60473                    61456  \n",
       "2       29642                    52348  \n",
       "3       90220                    65895  \n",
       "4       28052                    53687  "
      ]
     },
     "execution_count": 101,
     "metadata": {},
     "output_type": "execute_result"
    }
   ],
   "source": [
    "df1.head()"
   ]
  },
  {
   "cell_type": "markdown",
   "id": "50fa4f6a",
   "metadata": {},
   "source": [
    "Hay varias variables que no podemos usar. Hay tres variables cualitativas y `cod_postal` no tiene un sentido estadístico para el modelo. Quizás si estuvierámos en un modelo de clustering sería útil, pero el codigo postal de California (90000), estadísitcamente no dice nada respecto al de NY (10000). Tomen las previsiones para no usar estas variables. Este es el dataset que utilizaremos para la práctica calificada. "
   ]
  },
  {
   "cell_type": "markdown",
   "id": "93635412",
   "metadata": {},
   "source": [
    "**El caso**\n",
    "\n",
    "El CEO de Dificult Pay ha contratado a UdeP Analytics para que lo asistan en afinar el modelo de negocio de la empresa. Su equipo de analytics interno ha llegado hasta crear las distintas variables de interaccion de los scores de riesgo, pero les falta más experiencia con machine learning para extraer conclusiones accionables para el negocio. \n",
    "\n",
    "Difficult Pay recibe 5% del valor de la transacción como comisión, por cada transacción exitosa (verdaderos negativos 0,0), pero pierde el 100% de las transacciones fraudulentas (verdaderos positivos 1,1). Sin embargo, su sistema de riesgo actual es adhoc. El departamento de analistas de Difficult Pay realiza algunos chequeos aleatorios con los bancos para aprobar las transacciones (pero no necesariamente esta decisión está basada en alguno de los scores crediticios con los que cuentan). Además, no siempre registran la data de manera uniforme (por ejemplo, el criterio por el cual se negó la transacción). Esta metodología no permite tener una claridad sobre las cuatro clasificaciones de la matriz de confusión, a priori. Lo que sí sabemos a ciencia cierta es que han habido 153 malas transacciones dentro del dataset de 824 transacciones, las cuales no fueron detectadas por su proceso actual. Como hemos visto en clase, mediante machine learning es posible tener una predicción sobre estos números y completar la matriz de confusión. \n",
    "\n",
    "Difficult Pay ha comprado nuestra idea de instalar un modelo crediticio basado en machine learning. Nos ha pedido plantear el mejor modelo utilizando lo aprendido hasta ahora (logit, knn, svm y árboles de decisión) para maximizar el ingreso (o minimizar la pérdida) del negocio. Con el dataset data_cal2024.csv, responder las siguientes preguntas. "
   ]
  },
  {
   "cell_type": "markdown",
   "id": "0e58d6cc",
   "metadata": {},
   "source": [
    "**Introducción** 4 puntos. "
   ]
  },
  {
   "cell_type": "markdown",
   "id": "c1da1a06",
   "metadata": {},
   "source": [
    "1. Sin utilizar modelo de machine learning aún, cuánto dinero ha ganado o perdido Difficult Pay en estas 824 transacciones. (2 puntos)\n",
    "2. ¿A cuánto tendría que subir Difficult Pay la comisión por transacción para que el negocio llegase al punto de equilibrio de ingresos (1 punto)? \n",
    "3. Alternativamente, a la tarifa del 5%, cuántas transacciones malas podría haber aceptado Difficult Pay para llegar a al punto de equilibrio. Usar el valor promedio por transaccion para aproximarla. (1 punto)"
   ]
  },
  {
   "cell_type": "markdown",
   "id": "d3f70c9f",
   "metadata": {},
   "source": [
    "**Desarrollo de Machine Learning** 14 puntos. "
   ]
  },
  {
   "cell_type": "markdown",
   "id": "2aba0efe",
   "metadata": {},
   "source": [
    "Hemos visto en clase que el principal problema del dataset es que tiene un desbalance de clases (hay muy pocos 1s). Entonces, cualquier mejora que se quiera hacer sobre el modelo usando afinamiento de hiperparámetros no ha sido fructífera. Una posibilidad de mejora es hacer upsampling. Adicionalmente, en este dataset existen dos variables explicativas adicionales al visto en clase `interaccion_suma` y `ingreso_promedio_estado`. Veamos si al utilizar estas el accuracy, y particularmente el recall de la clase 1 mejoran. Tengan en consideración que las variables `puntaje_1` y `puntaje_2` no son necesarias, pues `interaccion_suma`, es la suma de ambas.  "
   ]
  },
  {
   "cell_type": "markdown",
   "id": "dd9b8e85",
   "metadata": {},
   "source": [
    "4. Hacer upsampling al dataset para tener igual número de transacciones buenas como malas. 2 puntos.  \n",
    "5. Armar un nuevo dataframe que incluya tanto las variables independientes como la dependiente. Debe tener 1342 filas. llamarla df1. 1 punto. \n",
    "6. Hacer un train_test split para el nuevo df1 y usar un modelo de arbol de decision de profundidad 10 para predecir la clase 1. Generar la matriz de confusión y el reporte de clasificación. Comentar sobre el nivel de accuracy del modelo y recall de la clase 1 para el test set. 5 puntos. \n",
    "7. Hacer validación cruzada de 5 folds para el ejemplo anterior utilizando un max depth desde 6 a 16. ¿Cuál es la profundidad óptima del arbol? 2 puntos\n",
    "8. Correr el modelo nuevamente con esta profundidad óptima. ¿Como resultan el accuracy y recall en el test set? 2 puntos. \n",
    "9. Probar la optimizacion con GridSearch. Correr el modelo con los parámetros óptimos encontrados. ¿Como resultan el accuracy y recall en el test set? 2 puntos. "
   ]
  },
  {
   "cell_type": "markdown",
   "id": "c52c8e9a",
   "metadata": {},
   "source": [
    "**Conclusiones** 2 puntos"
   ]
  },
  {
   "cell_type": "markdown",
   "id": "5707f617",
   "metadata": {},
   "source": [
    "Supongamos que el test set del ejercicio anterior (debería tener 269 observaciones) era un nuevo set de data que trajo el equipo de analytics para analizar luego de dos semanas de operación utilizando el modelo. "
   ]
  },
  {
   "cell_type": "markdown",
   "id": "96aeeb81",
   "metadata": {},
   "source": [
    "10. ¿Cuánto dinero hizo la compañia según este dataset? ¿Está funcionando el nuevo modelo o no? ¿A cuánto tendrían que subir la comisión? 2 puntos. "
   ]
  }
 ],
 "metadata": {
  "kernelspec": {
   "display_name": "Python 3 (ipykernel)",
   "language": "python",
   "name": "python3"
  },
  "language_info": {
   "codemirror_mode": {
    "name": "ipython",
    "version": 3
   },
   "file_extension": ".py",
   "mimetype": "text/x-python",
   "name": "python",
   "nbconvert_exporter": "python",
   "pygments_lexer": "ipython3",
   "version": "3.9.17"
  },
  "toc": {
   "base_numbering": 1,
   "nav_menu": {},
   "number_sections": true,
   "sideBar": true,
   "skip_h1_title": true,
   "title_cell": "Table of Contents",
   "title_sidebar": "Contents",
   "toc_cell": false,
   "toc_position": {
    "height": "calc(100% - 180px)",
    "left": "10px",
    "top": "150px",
    "width": "307.2px"
   },
   "toc_section_display": true,
   "toc_window_display": true
  },
  "varInspector": {
   "cols": {
    "lenName": 16,
    "lenType": 16,
    "lenVar": 40
   },
   "kernels_config": {
    "python": {
     "delete_cmd_postfix": "",
     "delete_cmd_prefix": "del ",
     "library": "var_list.py",
     "varRefreshCmd": "print(var_dic_list())"
    },
    "r": {
     "delete_cmd_postfix": ") ",
     "delete_cmd_prefix": "rm(",
     "library": "var_list.r",
     "varRefreshCmd": "cat(var_dic_list()) "
    }
   },
   "types_to_exclude": [
    "module",
    "function",
    "builtin_function_or_method",
    "instance",
    "_Feature"
   ],
   "window_display": false
  }
 },
 "nbformat": 4,
 "nbformat_minor": 5
}
